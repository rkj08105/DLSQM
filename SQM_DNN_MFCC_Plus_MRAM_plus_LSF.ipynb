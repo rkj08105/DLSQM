{
 "cells": [
  {
   "cell_type": "code",
   "execution_count": 1,
   "metadata": {},
   "outputs": [],
   "source": [
    "# Program of DNN based speech quality model using 13D MFCC, 10D LSF and 22D MRAM features. "
   ]
  },
  {
   "cell_type": "code",
   "execution_count": 2,
   "metadata": {},
   "outputs": [],
   "source": [
    "# Input- 13D MFCC, 10D LSF and 22D MRAM speech features of all 960 speech samples of NOIZEUS corpus.\n",
    "# Output- Subjective MOS (1 feature)"
   ]
  },
  {
   "cell_type": "code",
   "execution_count": 3,
   "metadata": {},
   "outputs": [],
   "source": [
    "# Importing library\n",
    "\n",
    "# Below four lines at top for generalization\n",
    "\n",
    "from numpy.random import seed\n",
    "seed(0)\n",
    "import tensorflow\n",
    "from tensorflow import keras\n",
    "tensorflow.random.set_seed(0)\n",
    "\n",
    "import math\n",
    "import numpy as np\n",
    "import pandas as pd\n",
    "import seaborn as sns\n",
    "import scipy.stats as stats\n",
    "import matplotlib.pyplot as plt\n",
    "#To show the output within the jupyter notebook itself!\n",
    "%matplotlib inline\n",
    "\n",
    "from sklearn import metrics\n",
    "from sklearn.model_selection import train_test_split\n",
    "from sklearn.model_selection import cross_val_score, KFold\n",
    "from sklearn.metrics import accuracy_score, r2_score\n",
    "from sklearn import model_selection\n",
    "from sklearn.preprocessing import MinMaxScaler \n",
    "from sklearn.decomposition import PCA\n",
    " \n",
    "from tensorflow.keras import layers\n",
    "from tensorflow.keras import models\n",
    "from tensorflow.keras.layers import Activation, LeakyReLU, PReLU, ELU, ReLU\n",
    "from tensorflow.keras.layers import Dropout\n",
    "from tensorflow.keras.optimizers import SGD\n",
    "from tensorflow.keras.optimizers import RMSprop\n",
    "from tensorflow.keras.callbacks import LearningRateScheduler\n",
    "from tensorflow.keras.callbacks import History\n",
    "from tensorflow.keras import losses\n",
    "\n",
    "from tensorflow.keras.models import Sequential\n",
    "from tensorflow.keras.layers import Dense\n",
    "from tensorflow.keras.layers import BatchNormalization\n",
    "from tensorflow.keras.callbacks import EarlyStopping\n",
    "from tensorflow.keras.utils import plot_model\n",
    "\n",
    "from tensorflow.keras.wrappers.scikit_learn import KerasRegressor\n",
    "\n",
    "import warnings\n",
    "warnings.filterwarnings('ignore')\n",
    "warnings.simplefilter(action='ignore', category=FutureWarning)\n",
    "warnings.filterwarnings('ignore', category=DeprecationWarning)"
   ]
  },
  {
   "cell_type": "code",
   "execution_count": 4,
   "metadata": {},
   "outputs": [
    {
     "data": {
      "text/html": [
       "<div>\n",
       "<style scoped>\n",
       "    .dataframe tbody tr th:only-of-type {\n",
       "        vertical-align: middle;\n",
       "    }\n",
       "\n",
       "    .dataframe tbody tr th {\n",
       "        vertical-align: top;\n",
       "    }\n",
       "\n",
       "    .dataframe thead th {\n",
       "        text-align: right;\n",
       "    }\n",
       "</style>\n",
       "<table border=\"1\" class=\"dataframe\">\n",
       "  <thead>\n",
       "    <tr style=\"text-align: right;\">\n",
       "      <th></th>\n",
       "      <th>0</th>\n",
       "      <th>1</th>\n",
       "      <th>2</th>\n",
       "      <th>3</th>\n",
       "      <th>4</th>\n",
       "      <th>5</th>\n",
       "      <th>6</th>\n",
       "      <th>7</th>\n",
       "      <th>8</th>\n",
       "      <th>9</th>\n",
       "      <th>...</th>\n",
       "      <th>36</th>\n",
       "      <th>37</th>\n",
       "      <th>38</th>\n",
       "      <th>39</th>\n",
       "      <th>40</th>\n",
       "      <th>41</th>\n",
       "      <th>42</th>\n",
       "      <th>43</th>\n",
       "      <th>44</th>\n",
       "      <th>45</th>\n",
       "    </tr>\n",
       "  </thead>\n",
       "  <tbody>\n",
       "    <tr>\n",
       "      <th>0</th>\n",
       "      <td>-444.570925</td>\n",
       "      <td>296.776581</td>\n",
       "      <td>18.202963</td>\n",
       "      <td>45.533201</td>\n",
       "      <td>1.642507</td>\n",
       "      <td>-15.425329</td>\n",
       "      <td>4.708653</td>\n",
       "      <td>46.790126</td>\n",
       "      <td>8.448926</td>\n",
       "      <td>15.889262</td>\n",
       "      <td>...</td>\n",
       "      <td>0.453181</td>\n",
       "      <td>0.678998</td>\n",
       "      <td>0.891810</td>\n",
       "      <td>1.230811</td>\n",
       "      <td>1.421894</td>\n",
       "      <td>1.796246</td>\n",
       "      <td>1.986595</td>\n",
       "      <td>2.309713</td>\n",
       "      <td>2.508269</td>\n",
       "      <td>1.90</td>\n",
       "    </tr>\n",
       "    <tr>\n",
       "      <th>1</th>\n",
       "      <td>195.424383</td>\n",
       "      <td>42.548533</td>\n",
       "      <td>-47.232038</td>\n",
       "      <td>55.060092</td>\n",
       "      <td>7.180520</td>\n",
       "      <td>18.735858</td>\n",
       "      <td>13.461191</td>\n",
       "      <td>-0.250632</td>\n",
       "      <td>7.562356</td>\n",
       "      <td>2.405553</td>\n",
       "      <td>...</td>\n",
       "      <td>0.406532</td>\n",
       "      <td>0.655776</td>\n",
       "      <td>0.960409</td>\n",
       "      <td>1.218916</td>\n",
       "      <td>1.415331</td>\n",
       "      <td>1.815550</td>\n",
       "      <td>2.011391</td>\n",
       "      <td>2.334045</td>\n",
       "      <td>2.517978</td>\n",
       "      <td>3.40</td>\n",
       "    </tr>\n",
       "    <tr>\n",
       "      <th>2</th>\n",
       "      <td>334.387423</td>\n",
       "      <td>-17.849127</td>\n",
       "      <td>-72.648701</td>\n",
       "      <td>82.934209</td>\n",
       "      <td>-7.990511</td>\n",
       "      <td>22.857897</td>\n",
       "      <td>9.841212</td>\n",
       "      <td>0.760615</td>\n",
       "      <td>8.922243</td>\n",
       "      <td>1.083629</td>\n",
       "      <td>...</td>\n",
       "      <td>0.384863</td>\n",
       "      <td>0.658164</td>\n",
       "      <td>0.975786</td>\n",
       "      <td>1.247341</td>\n",
       "      <td>1.422940</td>\n",
       "      <td>1.800574</td>\n",
       "      <td>2.004081</td>\n",
       "      <td>2.318268</td>\n",
       "      <td>2.518089</td>\n",
       "      <td>4.00</td>\n",
       "    </tr>\n",
       "    <tr>\n",
       "      <th>3</th>\n",
       "      <td>-84.540389</td>\n",
       "      <td>105.204346</td>\n",
       "      <td>-51.079037</td>\n",
       "      <td>53.362872</td>\n",
       "      <td>-3.819920</td>\n",
       "      <td>-0.333042</td>\n",
       "      <td>7.604571</td>\n",
       "      <td>10.182099</td>\n",
       "      <td>1.337922</td>\n",
       "      <td>4.478997</td>\n",
       "      <td>...</td>\n",
       "      <td>0.426488</td>\n",
       "      <td>0.681705</td>\n",
       "      <td>0.939973</td>\n",
       "      <td>1.236867</td>\n",
       "      <td>1.449592</td>\n",
       "      <td>1.802309</td>\n",
       "      <td>1.988633</td>\n",
       "      <td>2.341644</td>\n",
       "      <td>2.501178</td>\n",
       "      <td>2.60</td>\n",
       "    </tr>\n",
       "    <tr>\n",
       "      <th>4</th>\n",
       "      <td>-362.376360</td>\n",
       "      <td>236.886432</td>\n",
       "      <td>-116.752987</td>\n",
       "      <td>72.598387</td>\n",
       "      <td>42.287054</td>\n",
       "      <td>-6.337295</td>\n",
       "      <td>35.864093</td>\n",
       "      <td>8.531290</td>\n",
       "      <td>-2.272590</td>\n",
       "      <td>-5.680350</td>\n",
       "      <td>...</td>\n",
       "      <td>0.446047</td>\n",
       "      <td>0.641988</td>\n",
       "      <td>0.941404</td>\n",
       "      <td>1.233371</td>\n",
       "      <td>1.399887</td>\n",
       "      <td>1.803749</td>\n",
       "      <td>1.989725</td>\n",
       "      <td>2.318140</td>\n",
       "      <td>2.509942</td>\n",
       "      <td>1.85</td>\n",
       "    </tr>\n",
       "  </tbody>\n",
       "</table>\n",
       "<p>5 rows × 46 columns</p>\n",
       "</div>"
      ],
      "text/plain": [
       "           0           1           2          3          4          5   \\\n",
       "0 -444.570925  296.776581   18.202963  45.533201   1.642507 -15.425329   \n",
       "1  195.424383   42.548533  -47.232038  55.060092   7.180520  18.735858   \n",
       "2  334.387423  -17.849127  -72.648701  82.934209  -7.990511  22.857897   \n",
       "3  -84.540389  105.204346  -51.079037  53.362872  -3.819920  -0.333042   \n",
       "4 -362.376360  236.886432 -116.752987  72.598387  42.287054  -6.337295   \n",
       "\n",
       "          6          7         8          9   ...        36        37  \\\n",
       "0   4.708653  46.790126  8.448926  15.889262  ...  0.453181  0.678998   \n",
       "1  13.461191  -0.250632  7.562356   2.405553  ...  0.406532  0.655776   \n",
       "2   9.841212   0.760615  8.922243   1.083629  ...  0.384863  0.658164   \n",
       "3   7.604571  10.182099  1.337922   4.478997  ...  0.426488  0.681705   \n",
       "4  35.864093   8.531290 -2.272590  -5.680350  ...  0.446047  0.641988   \n",
       "\n",
       "         38        39        40        41        42        43        44    45  \n",
       "0  0.891810  1.230811  1.421894  1.796246  1.986595  2.309713  2.508269  1.90  \n",
       "1  0.960409  1.218916  1.415331  1.815550  2.011391  2.334045  2.517978  3.40  \n",
       "2  0.975786  1.247341  1.422940  1.800574  2.004081  2.318268  2.518089  4.00  \n",
       "3  0.939973  1.236867  1.449592  1.802309  1.988633  2.341644  2.501178  2.60  \n",
       "4  0.941404  1.233371  1.399887  1.803749  1.989725  2.318140  2.509942  1.85  \n",
       "\n",
       "[5 rows x 46 columns]"
      ]
     },
     "execution_count": 4,
     "metadata": {},
     "output_type": "execute_result"
    }
   ],
   "source": [
    "# Loading speech features CSV.\n",
    "\n",
    "df = pd.read_csv(r\"Features_MRAM22_MFCC13_LSF10_with_subj_MOS_in_last_colm_NOIZEUS_960_data.csv\", header=None)\n",
    "df.head()"
   ]
  },
  {
   "cell_type": "code",
   "execution_count": 5,
   "metadata": {},
   "outputs": [],
   "source": [
    "# df.info()"
   ]
  },
  {
   "cell_type": "code",
   "execution_count": 6,
   "metadata": {},
   "outputs": [
    {
     "data": {
      "text/html": [
       "<div>\n",
       "<style scoped>\n",
       "    .dataframe tbody tr th:only-of-type {\n",
       "        vertical-align: middle;\n",
       "    }\n",
       "\n",
       "    .dataframe tbody tr th {\n",
       "        vertical-align: top;\n",
       "    }\n",
       "\n",
       "    .dataframe thead th {\n",
       "        text-align: right;\n",
       "    }\n",
       "</style>\n",
       "<table border=\"1\" class=\"dataframe\">\n",
       "  <thead>\n",
       "    <tr style=\"text-align: right;\">\n",
       "      <th></th>\n",
       "      <th>0</th>\n",
       "      <th>1</th>\n",
       "      <th>2</th>\n",
       "      <th>3</th>\n",
       "      <th>4</th>\n",
       "      <th>5</th>\n",
       "      <th>6</th>\n",
       "      <th>7</th>\n",
       "      <th>8</th>\n",
       "      <th>9</th>\n",
       "      <th>...</th>\n",
       "      <th>36</th>\n",
       "      <th>37</th>\n",
       "      <th>38</th>\n",
       "      <th>39</th>\n",
       "      <th>40</th>\n",
       "      <th>41</th>\n",
       "      <th>42</th>\n",
       "      <th>43</th>\n",
       "      <th>44</th>\n",
       "      <th>45</th>\n",
       "    </tr>\n",
       "  </thead>\n",
       "  <tbody>\n",
       "    <tr>\n",
       "      <th>count</th>\n",
       "      <td>9.600000e+02</td>\n",
       "      <td>9.600000e+02</td>\n",
       "      <td>9.600000e+02</td>\n",
       "      <td>9.600000e+02</td>\n",
       "      <td>9.600000e+02</td>\n",
       "      <td>9.600000e+02</td>\n",
       "      <td>9.600000e+02</td>\n",
       "      <td>9.600000e+02</td>\n",
       "      <td>9.600000e+02</td>\n",
       "      <td>9.600000e+02</td>\n",
       "      <td>...</td>\n",
       "      <td>960.000000</td>\n",
       "      <td>960.000000</td>\n",
       "      <td>960.000000</td>\n",
       "      <td>960.000000</td>\n",
       "      <td>960.000000</td>\n",
       "      <td>960.000000</td>\n",
       "      <td>960.000000</td>\n",
       "      <td>960.000000</td>\n",
       "      <td>960.000000</td>\n",
       "      <td>960.000000</td>\n",
       "    </tr>\n",
       "    <tr>\n",
       "      <th>mean</th>\n",
       "      <td>3.583371e-10</td>\n",
       "      <td>-7.906256e-10</td>\n",
       "      <td>-8.437553e-11</td>\n",
       "      <td>-2.177084e-10</td>\n",
       "      <td>-4.062599e-11</td>\n",
       "      <td>-1.062501e-10</td>\n",
       "      <td>-7.708347e-11</td>\n",
       "      <td>6.249934e-12</td>\n",
       "      <td>-2.395808e-11</td>\n",
       "      <td>1.145833e-11</td>\n",
       "      <td>...</td>\n",
       "      <td>0.434500</td>\n",
       "      <td>0.697660</td>\n",
       "      <td>0.944261</td>\n",
       "      <td>1.250561</td>\n",
       "      <td>1.468596</td>\n",
       "      <td>1.809963</td>\n",
       "      <td>2.025972</td>\n",
       "      <td>2.352155</td>\n",
       "      <td>2.500748</td>\n",
       "      <td>2.773745</td>\n",
       "    </tr>\n",
       "    <tr>\n",
       "      <th>std</th>\n",
       "      <td>4.507852e+02</td>\n",
       "      <td>1.631143e+02</td>\n",
       "      <td>7.723060e+01</td>\n",
       "      <td>4.400768e+01</td>\n",
       "      <td>3.169937e+01</td>\n",
       "      <td>2.873496e+01</td>\n",
       "      <td>1.844305e+01</td>\n",
       "      <td>1.666393e+01</td>\n",
       "      <td>8.997200e+00</td>\n",
       "      <td>7.298105e+00</td>\n",
       "      <td>...</td>\n",
       "      <td>0.038750</td>\n",
       "      <td>0.045955</td>\n",
       "      <td>0.052109</td>\n",
       "      <td>0.063937</td>\n",
       "      <td>0.067317</td>\n",
       "      <td>0.048178</td>\n",
       "      <td>0.031235</td>\n",
       "      <td>0.034416</td>\n",
       "      <td>0.026125</td>\n",
       "      <td>0.692423</td>\n",
       "    </tr>\n",
       "    <tr>\n",
       "      <th>min</th>\n",
       "      <td>-1.746532e+03</td>\n",
       "      <td>-4.943593e+02</td>\n",
       "      <td>-2.297495e+02</td>\n",
       "      <td>-2.656343e+02</td>\n",
       "      <td>-1.642472e+02</td>\n",
       "      <td>-8.584618e+01</td>\n",
       "      <td>-6.334238e+01</td>\n",
       "      <td>-6.541378e+01</td>\n",
       "      <td>-3.141641e+01</td>\n",
       "      <td>-2.533185e+01</td>\n",
       "      <td>...</td>\n",
       "      <td>0.326657</td>\n",
       "      <td>0.570271</td>\n",
       "      <td>0.832117</td>\n",
       "      <td>1.096056</td>\n",
       "      <td>1.313909</td>\n",
       "      <td>1.658957</td>\n",
       "      <td>1.916542</td>\n",
       "      <td>2.245640</td>\n",
       "      <td>2.420407</td>\n",
       "      <td>1.250000</td>\n",
       "    </tr>\n",
       "    <tr>\n",
       "      <th>25%</th>\n",
       "      <td>-2.715557e+02</td>\n",
       "      <td>-1.028794e+02</td>\n",
       "      <td>-5.660745e+01</td>\n",
       "      <td>-2.802270e+01</td>\n",
       "      <td>-2.019929e+01</td>\n",
       "      <td>-1.739295e+01</td>\n",
       "      <td>-1.006815e+01</td>\n",
       "      <td>-1.008292e+01</td>\n",
       "      <td>-5.502130e+00</td>\n",
       "      <td>-5.487177e+00</td>\n",
       "      <td>...</td>\n",
       "      <td>0.406940</td>\n",
       "      <td>0.667319</td>\n",
       "      <td>0.906840</td>\n",
       "      <td>1.204903</td>\n",
       "      <td>1.420091</td>\n",
       "      <td>1.774078</td>\n",
       "      <td>2.006137</td>\n",
       "      <td>2.332330</td>\n",
       "      <td>2.484764</td>\n",
       "      <td>2.250000</td>\n",
       "    </tr>\n",
       "    <tr>\n",
       "      <th>50%</th>\n",
       "      <td>8.736536e+01</td>\n",
       "      <td>-7.044766e+00</td>\n",
       "      <td>7.670985e+00</td>\n",
       "      <td>-3.034007e+00</td>\n",
       "      <td>2.757891e-01</td>\n",
       "      <td>1.241361e+00</td>\n",
       "      <td>1.346281e-01</td>\n",
       "      <td>1.292174e+00</td>\n",
       "      <td>4.544658e-01</td>\n",
       "      <td>6.769125e-02</td>\n",
       "      <td>...</td>\n",
       "      <td>0.436554</td>\n",
       "      <td>0.689493</td>\n",
       "      <td>0.935696</td>\n",
       "      <td>1.245167</td>\n",
       "      <td>1.460498</td>\n",
       "      <td>1.812674</td>\n",
       "      <td>2.025960</td>\n",
       "      <td>2.351830</td>\n",
       "      <td>2.499327</td>\n",
       "      <td>2.800000</td>\n",
       "    </tr>\n",
       "    <tr>\n",
       "      <th>75%</th>\n",
       "      <td>3.317257e+02</td>\n",
       "      <td>1.073519e+02</td>\n",
       "      <td>5.448594e+01</td>\n",
       "      <td>2.755067e+01</td>\n",
       "      <td>2.136107e+01</td>\n",
       "      <td>1.558972e+01</td>\n",
       "      <td>9.452177e+00</td>\n",
       "      <td>1.063094e+01</td>\n",
       "      <td>6.433301e+00</td>\n",
       "      <td>5.076224e+00</td>\n",
       "      <td>...</td>\n",
       "      <td>0.458977</td>\n",
       "      <td>0.722770</td>\n",
       "      <td>0.979120</td>\n",
       "      <td>1.291627</td>\n",
       "      <td>1.510885</td>\n",
       "      <td>1.845489</td>\n",
       "      <td>2.044528</td>\n",
       "      <td>2.370632</td>\n",
       "      <td>2.515273</td>\n",
       "      <td>3.300000</td>\n",
       "    </tr>\n",
       "    <tr>\n",
       "      <th>max</th>\n",
       "      <td>8.094532e+02</td>\n",
       "      <td>5.760999e+02</td>\n",
       "      <td>2.860946e+02</td>\n",
       "      <td>1.741065e+02</td>\n",
       "      <td>1.765155e+02</td>\n",
       "      <td>1.435652e+02</td>\n",
       "      <td>1.103769e+02</td>\n",
       "      <td>5.884597e+01</td>\n",
       "      <td>3.492768e+01</td>\n",
       "      <td>2.707132e+01</td>\n",
       "      <td>...</td>\n",
       "      <td>0.607427</td>\n",
       "      <td>0.862913</td>\n",
       "      <td>1.123899</td>\n",
       "      <td>1.436808</td>\n",
       "      <td>1.656716</td>\n",
       "      <td>1.955867</td>\n",
       "      <td>2.149224</td>\n",
       "      <td>2.470893</td>\n",
       "      <td>2.595517</td>\n",
       "      <td>4.350000</td>\n",
       "    </tr>\n",
       "  </tbody>\n",
       "</table>\n",
       "<p>8 rows × 46 columns</p>\n",
       "</div>"
      ],
      "text/plain": [
       "                 0             1             2             3             4   \\\n",
       "count  9.600000e+02  9.600000e+02  9.600000e+02  9.600000e+02  9.600000e+02   \n",
       "mean   3.583371e-10 -7.906256e-10 -8.437553e-11 -2.177084e-10 -4.062599e-11   \n",
       "std    4.507852e+02  1.631143e+02  7.723060e+01  4.400768e+01  3.169937e+01   \n",
       "min   -1.746532e+03 -4.943593e+02 -2.297495e+02 -2.656343e+02 -1.642472e+02   \n",
       "25%   -2.715557e+02 -1.028794e+02 -5.660745e+01 -2.802270e+01 -2.019929e+01   \n",
       "50%    8.736536e+01 -7.044766e+00  7.670985e+00 -3.034007e+00  2.757891e-01   \n",
       "75%    3.317257e+02  1.073519e+02  5.448594e+01  2.755067e+01  2.136107e+01   \n",
       "max    8.094532e+02  5.760999e+02  2.860946e+02  1.741065e+02  1.765155e+02   \n",
       "\n",
       "                 5             6             7             8             9   \\\n",
       "count  9.600000e+02  9.600000e+02  9.600000e+02  9.600000e+02  9.600000e+02   \n",
       "mean  -1.062501e-10 -7.708347e-11  6.249934e-12 -2.395808e-11  1.145833e-11   \n",
       "std    2.873496e+01  1.844305e+01  1.666393e+01  8.997200e+00  7.298105e+00   \n",
       "min   -8.584618e+01 -6.334238e+01 -6.541378e+01 -3.141641e+01 -2.533185e+01   \n",
       "25%   -1.739295e+01 -1.006815e+01 -1.008292e+01 -5.502130e+00 -5.487177e+00   \n",
       "50%    1.241361e+00  1.346281e-01  1.292174e+00  4.544658e-01  6.769125e-02   \n",
       "75%    1.558972e+01  9.452177e+00  1.063094e+01  6.433301e+00  5.076224e+00   \n",
       "max    1.435652e+02  1.103769e+02  5.884597e+01  3.492768e+01  2.707132e+01   \n",
       "\n",
       "       ...          36          37          38          39          40  \\\n",
       "count  ...  960.000000  960.000000  960.000000  960.000000  960.000000   \n",
       "mean   ...    0.434500    0.697660    0.944261    1.250561    1.468596   \n",
       "std    ...    0.038750    0.045955    0.052109    0.063937    0.067317   \n",
       "min    ...    0.326657    0.570271    0.832117    1.096056    1.313909   \n",
       "25%    ...    0.406940    0.667319    0.906840    1.204903    1.420091   \n",
       "50%    ...    0.436554    0.689493    0.935696    1.245167    1.460498   \n",
       "75%    ...    0.458977    0.722770    0.979120    1.291627    1.510885   \n",
       "max    ...    0.607427    0.862913    1.123899    1.436808    1.656716   \n",
       "\n",
       "               41          42          43          44          45  \n",
       "count  960.000000  960.000000  960.000000  960.000000  960.000000  \n",
       "mean     1.809963    2.025972    2.352155    2.500748    2.773745  \n",
       "std      0.048178    0.031235    0.034416    0.026125    0.692423  \n",
       "min      1.658957    1.916542    2.245640    2.420407    1.250000  \n",
       "25%      1.774078    2.006137    2.332330    2.484764    2.250000  \n",
       "50%      1.812674    2.025960    2.351830    2.499327    2.800000  \n",
       "75%      1.845489    2.044528    2.370632    2.515273    3.300000  \n",
       "max      1.955867    2.149224    2.470893    2.595517    4.350000  \n",
       "\n",
       "[8 rows x 46 columns]"
      ]
     },
     "execution_count": 6,
     "metadata": {},
     "output_type": "execute_result"
    }
   ],
   "source": [
    "df.describe()"
   ]
  },
  {
   "cell_type": "code",
   "execution_count": 7,
   "metadata": {},
   "outputs": [
    {
     "data": {
      "text/plain": [
       "(960, 46)"
      ]
     },
     "execution_count": 7,
     "metadata": {},
     "output_type": "execute_result"
    }
   ],
   "source": [
    "df.shape # size of dataframe "
   ]
  },
  {
   "cell_type": "markdown",
   "metadata": {},
   "source": [
    "#### The distplot represents the univariate distribution of data i.e. data distribution of a variable against the density distribution. It shows the histogram with a line on it."
   ]
  },
  {
   "cell_type": "code",
   "execution_count": 8,
   "metadata": {},
   "outputs": [
    {
     "data": {
      "image/png": "[encoded data removed]",
      "text/plain": [
       "<Figure size 432x288 with 1 Axes>"
      ]
     },
     "metadata": {
      "needs_background": "light"
     },
     "output_type": "display_data"
    },
    {
     "data": {
      "image/png": "[encoded data removed]",
      "text/plain": [
       "<Figure size 432x288 with 1 Axes>"
      ]
     },
     "metadata": {
      "needs_background": "light"
     },
     "output_type": "display_data"
    },
    {
     "data": {
      "image/png": "[encoded data removed]",
      "text/plain": [
       "<Figure size 432x288 with 1 Axes>"
      ]
     },
     "metadata": {
      "needs_background": "light"
     },
     "output_type": "display_data"
    },
    {
     "data": {
      "image/png": "[encoded data removed]",
      "text/plain": [
       "<Figure size 432x288 with 1 Axes>"
      ]
     },
     "metadata": {
      "needs_background": "light"
     },
     "output_type": "display_data"
    },
    {
     "data": {
      "image/png": "[encoded data removed]",
      "text/plain": [
       "<Figure size 432x288 with 1 Axes>"
      ]
     },
     "metadata": {
      "needs_background": "light"
     },
     "output_type": "display_data"
    },
    {
     "data": {
      "image/png": "[encoded data removed]",
      "text/plain": [
       "<Figure size 432x288 with 1 Axes>"
      ]
     },
     "metadata": {
      "needs_background": "light"
     },
     "output_type": "display_data"
    },
    {
     "data": {
      "image/png": "[encoded data removed]",
      "text/plain": [
       "<Figure size 432x288 with 1 Axes>"
      ]
     },
     "metadata": {
      "needs_background": "light"
     },
     "output_type": "display_data"
    },
    {
     "data": {
      "image/png": "[encoded data removed]",
      "text/plain": [
       "<Figure size 432x288 with 1 Axes>"
      ]
     },
     "metadata": {
      "needs_background": "light"
     },
     "output_type": "display_data"
    },
    {
     "data": {
      "image/png": "[encoded data removed]",
      "text/plain": [
       "<Figure size 432x288 with 1 Axes>"
      ]
     },
     "metadata": {
      "needs_background": "light"
     },
     "output_type": "display_data"
    },
    {
     "data": {
      "image/png": "[encoded data removed]",
      "text/plain": [
       "<Figure size 432x288 with 1 Axes>"
      ]
     },
     "metadata": {
      "needs_background": "light"
     },
     "output_type": "display_data"
    },
    {
     "data": {
      "image/png": "[encoded data removed]",
      "text/plain": [
       "<Figure size 432x288 with 1 Axes>"
      ]
     },
     "metadata": {
      "needs_background": "light"
     },
     "output_type": "display_data"
    },
    {
     "data": {
      "image/png": "[encoded data removed]",
      "text/plain": [
       "<Figure size 432x288 with 1 Axes>"
      ]
     },
     "metadata": {
      "needs_background": "light"
     },
     "output_type": "display_data"
    },
    {
     "data": {
      "image/png": "[encoded data removed]",
      "text/plain": [
       "<Figure size 432x288 with 1 Axes>"
      ]
     },
     "metadata": {
      "needs_background": "light"
     },
     "output_type": "display_data"
    },
    {
     "data": {
      "image/png": "[encoded data removed]",
      "text/plain": [
       "<Figure size 432x288 with 1 Axes>"
      ]
     },
     "metadata": {
      "needs_background": "light"
     },
     "output_type": "display_data"
    },
    {
     "data": {
      "image/png": "[encoded data removed]",
      "text/plain": [
       "<Figure size 432x288 with 1 Axes>"
      ]
     },
     "metadata": {
      "needs_background": "light"
     },
     "output_type": "display_data"
    },
    {
     "data": {
      "image/png": "[encoded data removed]",
      "text/plain": [
       "<Figure size 432x288 with 1 Axes>"
      ]
     },
     "metadata": {
      "needs_background": "light"
     },
     "output_type": "display_data"
    },
    {
     "data": {
      "image/png": "[encoded data removed]",
      "text/plain": [
       "<Figure size 432x288 with 1 Axes>"
      ]
     },
     "metadata": {
      "needs_background": "light"
     },
     "output_type": "display_data"
    },
    {
     "data": {
      "image/png": "[encoded data removed]",
      "text/plain": [
       "<Figure size 432x288 with 1 Axes>"
      ]
     },
     "metadata": {
      "needs_background": "light"
     },
     "output_type": "display_data"
    },
    {
     "data": {
      "image/png": "[encoded data removed]",
      "text/plain": [
       "<Figure size 432x288 with 1 Axes>"
      ]
     },
     "metadata": {
      "needs_background": "light"
     },
     "output_type": "display_data"
    },
    {
     "data": {
      "image/png": "[encoded data removed]",
      "text/plain": [
       "<Figure size 432x288 with 1 Axes>"
      ]
     },
     "metadata": {
      "needs_background": "light"
     },
     "output_type": "display_data"
    },
    {
     "data": {
      "image/png": "[encoded data removed]",
      "text/plain": [
       "<Figure size 432x288 with 1 Axes>"
      ]
     },
     "metadata": {
      "needs_background": "light"
     },
     "output_type": "display_data"
    },
    {
     "data": {
      "image/png": "[encoded data removed]",
      "text/plain": [
       "<Figure size 432x288 with 1 Axes>"
      ]
     },
     "metadata": {
      "needs_background": "light"
     },
     "output_type": "display_data"
    },
    {
     "data": {
      "image/png": "[encoded data removed]",
      "text/plain": [
       "<Figure size 432x288 with 1 Axes>"
      ]
     },
     "metadata": {
      "needs_background": "light"
     },
     "output_type": "display_data"
    },
    {
     "data": {
      "image/png": "[encoded data removed]",
      "text/plain": [
       "<Figure size 432x288 with 1 Axes>"
      ]
     },
     "metadata": {
      "needs_background": "light"
     },
     "output_type": "display_data"
    },
    {
     "data": {
      "image/png": "[encoded data removed]",
      "text/plain": [
       "<Figure size 432x288 with 1 Axes>"
      ]
     },
     "metadata": {
      "needs_background": "light"
     },
     "output_type": "display_data"
    },
    {
     "data": {
      "image/png": "[encoded data removed]",
      "text/plain": [
       "<Figure size 432x288 with 1 Axes>"
      ]
     },
     "metadata": {
      "needs_background": "light"
     },
     "output_type": "display_data"
    },
    {
     "data": {
      "image/png": "[encoded data removed]",
      "text/plain": [
       "<Figure size 432x288 with 1 Axes>"
      ]
     },
     "metadata": {
      "needs_background": "light"
     },
     "output_type": "display_data"
    },
    {
     "data": {
      "image/png": "[encoded data removed]",
      "text/plain": [
       "<Figure size 432x288 with 1 Axes>"
      ]
     },
     "metadata": {
      "needs_background": "light"
     },
     "output_type": "display_data"
    },
    {
     "data": {
      "image/png": "[encoded data removed]",
      "text/plain": [
       "<Figure size 432x288 with 1 Axes>"
      ]
     },
     "metadata": {
      "needs_background": "light"
     },
     "output_type": "display_data"
    },
    {
     "data": {
      "image/png": "[encoded data removed]",
      "text/plain": [
       "<Figure size 432x288 with 1 Axes>"
      ]
     },
     "metadata": {
      "needs_background": "light"
     },
     "output_type": "display_data"
    },
    {
     "data": {
      "image/png": "[encoded data removed]",
      "text/plain": [
       "<Figure size 432x288 with 1 Axes>"
      ]
     },
     "metadata": {
      "needs_background": "light"
     },
     "output_type": "display_data"
    },
    {
     "data": {
      "image/png": "[encoded data removed]",
      "text/plain": [
       "<Figure size 432x288 with 1 Axes>"
      ]
     },
     "metadata": {
      "needs_background": "light"
     },
     "output_type": "display_data"
    },
    {
     "data": {
      "image/png": "[encoded data removed]",
      "text/plain": [
       "<Figure size 432x288 with 1 Axes>"
      ]
     },
     "metadata": {
      "needs_background": "light"
     },
     "output_type": "display_data"
    },
    {
     "data": {
      "image/png": "[encoded data removed]",
      "text/plain": [
       "<Figure size 432x288 with 1 Axes>"
      ]
     },
     "metadata": {
      "needs_background": "light"
     },
     "output_type": "display_data"
    },
    {
     "data": {
      "image/png": "[encoded data removed]",
      "text/plain": [
       "<Figure size 432x288 with 1 Axes>"
      ]
     },
     "metadata": {
      "needs_background": "light"
     },
     "output_type": "display_data"
    },
    {
     "data": {
      "image/png": "[encoded data removed]",
      "text/plain": [
       "<Figure size 432x288 with 1 Axes>"
      ]
     },
     "metadata": {
      "needs_background": "light"
     },
     "output_type": "display_data"
    },
    {
     "data": {
      "image/png": "[encoded data removed]",
      "text/plain": [
       "<Figure size 432x288 with 1 Axes>"
      ]
     },
     "metadata": {
      "needs_background": "light"
     },
     "output_type": "display_data"
    },
    {
     "data": {
      "image/png": "[encoded data removed]",
      "text/plain": [
       "<Figure size 432x288 with 1 Axes>"
      ]
     },
     "metadata": {
      "needs_background": "light"
     },
     "output_type": "display_data"
    },
    {
     "data": {
      "image/png": "[encoded data removed]",
      "text/plain": [
       "<Figure size 432x288 with 1 Axes>"
      ]
     },
     "metadata": {
      "needs_background": "light"
     },
     "output_type": "display_data"
    },
    {
     "data": {
      "image/png": "[encoded data removed]",
      "text/plain": [
       "<Figure size 432x288 with 1 Axes>"
      ]
     },
     "metadata": {
      "needs_background": "light"
     },
     "output_type": "display_data"
    },
    {
     "data": {
      "image/png": "[encoded data removed]",
      "text/plain": [
       "<Figure size 432x288 with 1 Axes>"
      ]
     },
     "metadata": {
      "needs_background": "light"
     },
     "output_type": "display_data"
    },
    {
     "data": {
      "image/png": "[encoded data removed]",
      "text/plain": [
       "<Figure size 432x288 with 1 Axes>"
      ]
     },
     "metadata": {
      "needs_background": "light"
     },
     "output_type": "display_data"
    },
    {
     "data": {
      "image/png": "[encoded data removed]",
      "text/plain": [
       "<Figure size 432x288 with 1 Axes>"
      ]
     },
     "metadata": {
      "needs_background": "light"
     },
     "output_type": "display_data"
    },
    {
     "data": {
      "image/png": "[encoded data removed]",
      "text/plain": [
       "<Figure size 432x288 with 1 Axes>"
      ]
     },
     "metadata": {
      "needs_background": "light"
     },
     "output_type": "display_data"
    },
    {
     "data": {
      "image/png": "[encoded data removed]",
      "text/plain": [
       "<Figure size 432x288 with 1 Axes>"
      ]
     },
     "metadata": {
      "needs_background": "light"
     },
     "output_type": "display_data"
    },
    {
     "data": {
      "image/png": "[encoded data removed]",
      "text/plain": [
       "<Figure size 432x288 with 1 Axes>"
      ]
     },
     "metadata": {
      "needs_background": "light"
     },
     "output_type": "display_data"
    }
   ],
   "source": [
    "# function to see distribution.\n",
    "\n",
    "def plot(df, feature):\n",
    "    sns.distplot(df[feature])\n",
    "    plt.show()\n",
    "    \n",
    "for feature in df.columns:  # seeing distribution of inputs and output\n",
    "    plot(df, feature)"
   ]
  },
  {
   "cell_type": "code",
   "execution_count": 9,
   "metadata": {},
   "outputs": [
    {
     "data": {
      "text/plain": [
       "<AxesSubplot:>"
      ]
     },
     "execution_count": 9,
     "metadata": {},
     "output_type": "execute_result"
    },
    {
     "data": {
      "image/png": "[encoded data removed]",
      "text/plain": [
       "<Figure size 720x432 with 2 Axes>"
      ]
     },
     "metadata": {
      "needs_background": "light"
     },
     "output_type": "display_data"
    }
   ],
   "source": [
    "# Seeing correlation heatmap between inputs and outputs.\n",
    "\n",
    "plt.figure(figsize=(10,6))\n",
    "\n",
    "sns.heatmap(df.corr(),annot = False)"
   ]
  },
  {
   "cell_type": "code",
   "execution_count": 10,
   "metadata": {},
   "outputs": [
    {
     "data": {
      "text/html": [
       "<div>\n",
       "<style scoped>\n",
       "    .dataframe tbody tr th:only-of-type {\n",
       "        vertical-align: middle;\n",
       "    }\n",
       "\n",
       "    .dataframe tbody tr th {\n",
       "        vertical-align: top;\n",
       "    }\n",
       "\n",
       "    .dataframe thead th {\n",
       "        text-align: right;\n",
       "    }\n",
       "</style>\n",
       "<table border=\"1\" class=\"dataframe\">\n",
       "  <thead>\n",
       "    <tr style=\"text-align: right;\">\n",
       "      <th></th>\n",
       "      <th>0</th>\n",
       "      <th>1</th>\n",
       "      <th>2</th>\n",
       "      <th>3</th>\n",
       "      <th>4</th>\n",
       "      <th>5</th>\n",
       "      <th>6</th>\n",
       "      <th>7</th>\n",
       "      <th>8</th>\n",
       "      <th>9</th>\n",
       "      <th>...</th>\n",
       "      <th>35</th>\n",
       "      <th>36</th>\n",
       "      <th>37</th>\n",
       "      <th>38</th>\n",
       "      <th>39</th>\n",
       "      <th>40</th>\n",
       "      <th>41</th>\n",
       "      <th>42</th>\n",
       "      <th>43</th>\n",
       "      <th>44</th>\n",
       "    </tr>\n",
       "  </thead>\n",
       "  <tbody>\n",
       "    <tr>\n",
       "      <th>0</th>\n",
       "      <td>-444.570925</td>\n",
       "      <td>296.776581</td>\n",
       "      <td>18.202963</td>\n",
       "      <td>45.533201</td>\n",
       "      <td>1.642507</td>\n",
       "      <td>-15.425329</td>\n",
       "      <td>4.708653</td>\n",
       "      <td>46.790126</td>\n",
       "      <td>8.448926</td>\n",
       "      <td>15.889262</td>\n",
       "      <td>...</td>\n",
       "      <td>0.365777</td>\n",
       "      <td>0.453181</td>\n",
       "      <td>0.678998</td>\n",
       "      <td>0.891810</td>\n",
       "      <td>1.230811</td>\n",
       "      <td>1.421894</td>\n",
       "      <td>1.796246</td>\n",
       "      <td>1.986595</td>\n",
       "      <td>2.309713</td>\n",
       "      <td>2.508269</td>\n",
       "    </tr>\n",
       "    <tr>\n",
       "      <th>1</th>\n",
       "      <td>195.424383</td>\n",
       "      <td>42.548533</td>\n",
       "      <td>-47.232038</td>\n",
       "      <td>55.060092</td>\n",
       "      <td>7.180520</td>\n",
       "      <td>18.735858</td>\n",
       "      <td>13.461191</td>\n",
       "      <td>-0.250632</td>\n",
       "      <td>7.562356</td>\n",
       "      <td>2.405553</td>\n",
       "      <td>...</td>\n",
       "      <td>0.334413</td>\n",
       "      <td>0.406532</td>\n",
       "      <td>0.655776</td>\n",
       "      <td>0.960409</td>\n",
       "      <td>1.218916</td>\n",
       "      <td>1.415331</td>\n",
       "      <td>1.815550</td>\n",
       "      <td>2.011391</td>\n",
       "      <td>2.334045</td>\n",
       "      <td>2.517978</td>\n",
       "    </tr>\n",
       "    <tr>\n",
       "      <th>2</th>\n",
       "      <td>334.387423</td>\n",
       "      <td>-17.849127</td>\n",
       "      <td>-72.648701</td>\n",
       "      <td>82.934209</td>\n",
       "      <td>-7.990511</td>\n",
       "      <td>22.857897</td>\n",
       "      <td>9.841212</td>\n",
       "      <td>0.760615</td>\n",
       "      <td>8.922243</td>\n",
       "      <td>1.083629</td>\n",
       "      <td>...</td>\n",
       "      <td>0.323393</td>\n",
       "      <td>0.384863</td>\n",
       "      <td>0.658164</td>\n",
       "      <td>0.975786</td>\n",
       "      <td>1.247341</td>\n",
       "      <td>1.422940</td>\n",
       "      <td>1.800574</td>\n",
       "      <td>2.004081</td>\n",
       "      <td>2.318268</td>\n",
       "      <td>2.518089</td>\n",
       "    </tr>\n",
       "    <tr>\n",
       "      <th>3</th>\n",
       "      <td>-84.540389</td>\n",
       "      <td>105.204346</td>\n",
       "      <td>-51.079037</td>\n",
       "      <td>53.362872</td>\n",
       "      <td>-3.819920</td>\n",
       "      <td>-0.333042</td>\n",
       "      <td>7.604571</td>\n",
       "      <td>10.182099</td>\n",
       "      <td>1.337922</td>\n",
       "      <td>4.478997</td>\n",
       "      <td>...</td>\n",
       "      <td>0.341841</td>\n",
       "      <td>0.426488</td>\n",
       "      <td>0.681705</td>\n",
       "      <td>0.939973</td>\n",
       "      <td>1.236867</td>\n",
       "      <td>1.449592</td>\n",
       "      <td>1.802309</td>\n",
       "      <td>1.988633</td>\n",
       "      <td>2.341644</td>\n",
       "      <td>2.501178</td>\n",
       "    </tr>\n",
       "    <tr>\n",
       "      <th>4</th>\n",
       "      <td>-362.376360</td>\n",
       "      <td>236.886432</td>\n",
       "      <td>-116.752987</td>\n",
       "      <td>72.598387</td>\n",
       "      <td>42.287054</td>\n",
       "      <td>-6.337295</td>\n",
       "      <td>35.864093</td>\n",
       "      <td>8.531290</td>\n",
       "      <td>-2.272590</td>\n",
       "      <td>-5.680350</td>\n",
       "      <td>...</td>\n",
       "      <td>0.367235</td>\n",
       "      <td>0.446047</td>\n",
       "      <td>0.641988</td>\n",
       "      <td>0.941404</td>\n",
       "      <td>1.233371</td>\n",
       "      <td>1.399887</td>\n",
       "      <td>1.803749</td>\n",
       "      <td>1.989725</td>\n",
       "      <td>2.318140</td>\n",
       "      <td>2.509942</td>\n",
       "    </tr>\n",
       "  </tbody>\n",
       "</table>\n",
       "<p>5 rows × 45 columns</p>\n",
       "</div>"
      ],
      "text/plain": [
       "           0           1           2          3          4          5   \\\n",
       "0 -444.570925  296.776581   18.202963  45.533201   1.642507 -15.425329   \n",
       "1  195.424383   42.548533  -47.232038  55.060092   7.180520  18.735858   \n",
       "2  334.387423  -17.849127  -72.648701  82.934209  -7.990511  22.857897   \n",
       "3  -84.540389  105.204346  -51.079037  53.362872  -3.819920  -0.333042   \n",
       "4 -362.376360  236.886432 -116.752987  72.598387  42.287054  -6.337295   \n",
       "\n",
       "          6          7         8          9   ...        35        36  \\\n",
       "0   4.708653  46.790126  8.448926  15.889262  ...  0.365777  0.453181   \n",
       "1  13.461191  -0.250632  7.562356   2.405553  ...  0.334413  0.406532   \n",
       "2   9.841212   0.760615  8.922243   1.083629  ...  0.323393  0.384863   \n",
       "3   7.604571  10.182099  1.337922   4.478997  ...  0.341841  0.426488   \n",
       "4  35.864093   8.531290 -2.272590  -5.680350  ...  0.367235  0.446047   \n",
       "\n",
       "         37        38        39        40        41        42        43  \\\n",
       "0  0.678998  0.891810  1.230811  1.421894  1.796246  1.986595  2.309713   \n",
       "1  0.655776  0.960409  1.218916  1.415331  1.815550  2.011391  2.334045   \n",
       "2  0.658164  0.975786  1.247341  1.422940  1.800574  2.004081  2.318268   \n",
       "3  0.681705  0.939973  1.236867  1.449592  1.802309  1.988633  2.341644   \n",
       "4  0.641988  0.941404  1.233371  1.399887  1.803749  1.989725  2.318140   \n",
       "\n",
       "         44  \n",
       "0  2.508269  \n",
       "1  2.517978  \n",
       "2  2.518089  \n",
       "3  2.501178  \n",
       "4  2.509942  \n",
       "\n",
       "[5 rows x 45 columns]"
      ]
     },
     "execution_count": 10,
     "metadata": {},
     "output_type": "execute_result"
    }
   ],
   "source": [
    "# Input data, i.e., speech features\n",
    "\n",
    "inputs = df.iloc[:,:-1]\n",
    "inputs.head()"
   ]
  },
  {
   "cell_type": "code",
   "execution_count": 11,
   "metadata": {},
   "outputs": [
    {
     "data": {
      "text/plain": [
       "(960, 45)"
      ]
     },
     "execution_count": 11,
     "metadata": {},
     "output_type": "execute_result"
    }
   ],
   "source": [
    "inputs.shape"
   ]
  },
  {
   "cell_type": "code",
   "execution_count": 12,
   "metadata": {},
   "outputs": [
    {
     "data": {
      "text/plain": [
       "pandas.core.frame.DataFrame"
      ]
     },
     "execution_count": 12,
     "metadata": {},
     "output_type": "execute_result"
    }
   ],
   "source": [
    "type(inputs)"
   ]
  },
  {
   "cell_type": "code",
   "execution_count": 13,
   "metadata": {},
   "outputs": [
    {
     "data": {
      "text/html": [
       "<div>\n",
       "<style scoped>\n",
       "    .dataframe tbody tr th:only-of-type {\n",
       "        vertical-align: middle;\n",
       "    }\n",
       "\n",
       "    .dataframe tbody tr th {\n",
       "        vertical-align: top;\n",
       "    }\n",
       "\n",
       "    .dataframe thead th {\n",
       "        text-align: right;\n",
       "    }\n",
       "</style>\n",
       "<table border=\"1\" class=\"dataframe\">\n",
       "  <thead>\n",
       "    <tr style=\"text-align: right;\">\n",
       "      <th></th>\n",
       "      <th>45</th>\n",
       "    </tr>\n",
       "  </thead>\n",
       "  <tbody>\n",
       "    <tr>\n",
       "      <th>0</th>\n",
       "      <td>1.90</td>\n",
       "    </tr>\n",
       "    <tr>\n",
       "      <th>1</th>\n",
       "      <td>3.40</td>\n",
       "    </tr>\n",
       "    <tr>\n",
       "      <th>2</th>\n",
       "      <td>4.00</td>\n",
       "    </tr>\n",
       "    <tr>\n",
       "      <th>3</th>\n",
       "      <td>2.60</td>\n",
       "    </tr>\n",
       "    <tr>\n",
       "      <th>4</th>\n",
       "      <td>1.85</td>\n",
       "    </tr>\n",
       "  </tbody>\n",
       "</table>\n",
       "</div>"
      ],
      "text/plain": [
       "     45\n",
       "0  1.90\n",
       "1  3.40\n",
       "2  4.00\n",
       "3  2.60\n",
       "4  1.85"
      ]
     },
     "execution_count": 13,
     "metadata": {},
     "output_type": "execute_result"
    }
   ],
   "source": [
    "# Output data i.e., subjective MOS (last column)\n",
    "\n",
    "outputs = df.iloc[:,-1:]\n",
    "outputs.head()"
   ]
  },
  {
   "cell_type": "code",
   "execution_count": 14,
   "metadata": {},
   "outputs": [
    {
     "data": {
      "text/plain": [
       "(960, 1)"
      ]
     },
     "execution_count": 14,
     "metadata": {},
     "output_type": "execute_result"
    }
   ],
   "source": [
    "outputs.shape"
   ]
  },
  {
   "cell_type": "code",
   "execution_count": 15,
   "metadata": {},
   "outputs": [
    {
     "data": {
      "text/plain": [
       "pandas.core.frame.DataFrame"
      ]
     },
     "execution_count": 15,
     "metadata": {},
     "output_type": "execute_result"
    }
   ],
   "source": [
    "type(outputs)"
   ]
  },
  {
   "cell_type": "code",
   "execution_count": 16,
   "metadata": {},
   "outputs": [],
   "source": [
    "########################################### PCA starts here ############################################"
   ]
  },
  {
   "cell_type": "code",
   "execution_count": 17,
   "metadata": {},
   "outputs": [],
   "source": [
    "# No need of PCA here #"
   ]
  },
  {
   "cell_type": "code",
   "execution_count": 18,
   "metadata": {},
   "outputs": [],
   "source": [
    "##################################### PCA over here ####################################################"
   ]
  },
  {
   "cell_type": "code",
   "execution_count": 19,
   "metadata": {},
   "outputs": [
    {
     "data": {
      "text/plain": [
       "array([[-444.5709253 ,  296.7765813 ,   18.20296278, ...,    1.98659479,\n",
       "           2.30971275,    2.50826936],\n",
       "       [ 195.4243833 ,   42.54853319,  -47.23203771, ...,    2.01139084,\n",
       "           2.3340454 ,    2.51797832],\n",
       "       [ 334.3874228 ,  -17.84912727,  -72.64870084, ...,    2.00408129,\n",
       "           2.31826767,    2.51808857],\n",
       "       ...,\n",
       "       [-220.5627226 , -216.9397659 , -202.2839704 , ...,    2.08007023,\n",
       "           2.42266332,    2.53353402],\n",
       "       [ 118.1400231 , -102.5909086 , -193.9346759 , ...,    2.12108006,\n",
       "           2.45645967,    2.56106166],\n",
       "       [-578.3095456 , -270.3646653 , -210.0675624 , ...,    2.05751983,\n",
       "           2.39908817,    2.52950057]])"
      ]
     },
     "execution_count": 19,
     "metadata": {},
     "output_type": "execute_result"
    }
   ],
   "source": [
    "# Pre-processing\n",
    "\n",
    "x = inputs.values  # converting dataframe \"inputs\" into array form\n",
    "x "
   ]
  },
  {
   "cell_type": "code",
   "execution_count": 20,
   "metadata": {},
   "outputs": [
    {
     "data": {
      "text/plain": [
       "(960, 45)"
      ]
     },
     "execution_count": 20,
     "metadata": {},
     "output_type": "execute_result"
    }
   ],
   "source": [
    "x.shape"
   ]
  },
  {
   "cell_type": "code",
   "execution_count": 21,
   "metadata": {},
   "outputs": [
    {
     "data": {
      "text/plain": [
       "array([[1.9       ],\n",
       "       [3.4       ],\n",
       "       [4.        ],\n",
       "       [2.6       ],\n",
       "       [1.85      ],\n",
       "       [2.95      ],\n",
       "       [3.5       ],\n",
       "       [2.45      ],\n",
       "       [2.05      ],\n",
       "       [3.25      ],\n",
       "       [3.85      ],\n",
       "       [2.55      ],\n",
       "       [2.3       ],\n",
       "       [3.05      ],\n",
       "       [3.45      ],\n",
       "       [2.95      ],\n",
       "       [2.35      ],\n",
       "       [2.8       ],\n",
       "       [3.65      ],\n",
       "       [2.25      ],\n",
       "       [2.15      ],\n",
       "       [2.95      ],\n",
       "       [4.1       ],\n",
       "       [2.        ],\n",
       "       [1.8       ],\n",
       "       [3.3       ],\n",
       "       [3.75      ],\n",
       "       [2.65      ],\n",
       "       [2.05      ],\n",
       "       [3.1       ],\n",
       "       [3.6       ],\n",
       "       [2.8       ],\n",
       "       [2.2       ],\n",
       "       [3.3       ],\n",
       "       [3.8       ],\n",
       "       [2.45      ],\n",
       "       [1.75      ],\n",
       "       [3.35      ],\n",
       "       [3.45      ],\n",
       "       [2.6       ],\n",
       "       [2.        ],\n",
       "       [2.95      ],\n",
       "       [3.45      ],\n",
       "       [2.95      ],\n",
       "       [1.95      ],\n",
       "       [2.75      ],\n",
       "       [3.4       ],\n",
       "       [2.65      ],\n",
       "       [1.9       ],\n",
       "       [3.05      ],\n",
       "       [4.        ],\n",
       "       [2.75      ],\n",
       "       [2.05      ],\n",
       "       [3.15      ],\n",
       "       [3.7       ],\n",
       "       [2.7       ],\n",
       "       [2.05      ],\n",
       "       [3.        ],\n",
       "       [3.75      ],\n",
       "       [2.85      ],\n",
       "       [1.95      ],\n",
       "       [3.1       ],\n",
       "       [3.6       ],\n",
       "       [2.65      ],\n",
       "       [1.9       ],\n",
       "       [3.35      ],\n",
       "       [3.9       ],\n",
       "       [2.65      ],\n",
       "       [1.95      ],\n",
       "       [3.2       ],\n",
       "       [3.65      ],\n",
       "       [2.45      ],\n",
       "       [1.4       ],\n",
       "       [3.05      ],\n",
       "       [4.35      ],\n",
       "       [2.15      ],\n",
       "       [2.1       ],\n",
       "       [2.5       ],\n",
       "       [3.65      ],\n",
       "       [2.8       ],\n",
       "       [2.15      ],\n",
       "       [3.2       ],\n",
       "       [3.65      ],\n",
       "       [2.6       ],\n",
       "       [1.6       ],\n",
       "       [3.2       ],\n",
       "       [3.55      ],\n",
       "       [2.45      ],\n",
       "       [1.85      ],\n",
       "       [3.        ],\n",
       "       [3.45      ],\n",
       "       [2.25      ],\n",
       "       [1.4       ],\n",
       "       [3.35      ],\n",
       "       [3.3       ],\n",
       "       [2.4       ],\n",
       "       [2.2       ],\n",
       "       [3.45      ],\n",
       "       [3.6       ],\n",
       "       [2.8       ],\n",
       "       [2.2       ],\n",
       "       [3.        ],\n",
       "       [3.8       ],\n",
       "       [2.95      ],\n",
       "       [1.75      ],\n",
       "       [3.1       ],\n",
       "       [3.5       ],\n",
       "       [2.45      ],\n",
       "       [2.1       ],\n",
       "       [3.55      ],\n",
       "       [3.4       ],\n",
       "       [2.55      ],\n",
       "       [2.45      ],\n",
       "       [3.4       ],\n",
       "       [3.65      ],\n",
       "       [3.05      ],\n",
       "       [1.75      ],\n",
       "       [2.95      ],\n",
       "       [3.9       ],\n",
       "       [2.9       ],\n",
       "       [2.05      ],\n",
       "       [3.05      ],\n",
       "       [4.2       ],\n",
       "       [2.4       ],\n",
       "       [2.25      ],\n",
       "       [2.8       ],\n",
       "       [3.2       ],\n",
       "       [2.5       ],\n",
       "       [2.05      ],\n",
       "       [2.75      ],\n",
       "       [3.7       ],\n",
       "       [2.6       ],\n",
       "       [1.65      ],\n",
       "       [2.45      ],\n",
       "       [3.45      ],\n",
       "       [1.85      ],\n",
       "       [1.6       ],\n",
       "       [2.95      ],\n",
       "       [3.25      ],\n",
       "       [1.95      ],\n",
       "       [1.65      ],\n",
       "       [2.4       ],\n",
       "       [3.35      ],\n",
       "       [2.1       ],\n",
       "       [1.55      ],\n",
       "       [2.95      ],\n",
       "       [3.7       ],\n",
       "       [2.2       ],\n",
       "       [1.5       ],\n",
       "       [3.1       ],\n",
       "       [3.15      ],\n",
       "       [2.2       ],\n",
       "       [1.4       ],\n",
       "       [2.75      ],\n",
       "       [3.05      ],\n",
       "       [2.2       ],\n",
       "       [1.7       ],\n",
       "       [2.75      ],\n",
       "       [3.2       ],\n",
       "       [2.35      ],\n",
       "       [2.85      ],\n",
       "       [2.95      ],\n",
       "       [3.9       ],\n",
       "       [2.7       ],\n",
       "       [1.65      ],\n",
       "       [2.4       ],\n",
       "       [3.55      ],\n",
       "       [2.2       ],\n",
       "       [1.75      ],\n",
       "       [2.9       ],\n",
       "       [3.2       ],\n",
       "       [2.2       ],\n",
       "       [1.8       ],\n",
       "       [3.4       ],\n",
       "       [3.5       ],\n",
       "       [2.3       ],\n",
       "       [1.95      ],\n",
       "       [2.9       ],\n",
       "       [3.85      ],\n",
       "       [2.4       ],\n",
       "       [1.5       ],\n",
       "       [3.2       ],\n",
       "       [2.85      ],\n",
       "       [2.6       ],\n",
       "       [1.85      ],\n",
       "       [3.55      ],\n",
       "       [3.75      ],\n",
       "       [2.45      ],\n",
       "       [1.7       ],\n",
       "       [3.        ],\n",
       "       [3.4       ],\n",
       "       [2.4       ],\n",
       "       [2.25      ],\n",
       "       [3.25      ],\n",
       "       [4.1       ],\n",
       "       [3.3       ],\n",
       "       [1.4       ],\n",
       "       [3.6       ],\n",
       "       [3.7       ],\n",
       "       [2.05      ],\n",
       "       [1.7       ],\n",
       "       [3.45      ],\n",
       "       [4.        ],\n",
       "       [2.65      ],\n",
       "       [2.1       ],\n",
       "       [3.5       ],\n",
       "       [3.25      ],\n",
       "       [2.6       ],\n",
       "       [2.05      ],\n",
       "       [3.3       ],\n",
       "       [3.9       ],\n",
       "       [2.75      ],\n",
       "       [1.95      ],\n",
       "       [3.6       ],\n",
       "       [4.25      ],\n",
       "       [3.15      ],\n",
       "       [1.5       ],\n",
       "       [3.        ],\n",
       "       [3.25      ],\n",
       "       [2.55      ],\n",
       "       [1.8       ],\n",
       "       [3.4       ],\n",
       "       [3.6       ],\n",
       "       [2.65      ],\n",
       "       [2.15      ],\n",
       "       [3.15      ],\n",
       "       [3.6       ],\n",
       "       [2.45      ],\n",
       "       [1.9       ],\n",
       "       [2.75      ],\n",
       "       [3.45      ],\n",
       "       [2.45      ],\n",
       "       [1.85      ],\n",
       "       [2.45      ],\n",
       "       [3.15      ],\n",
       "       [2.25      ],\n",
       "       [1.6       ],\n",
       "       [2.9       ],\n",
       "       [3.15      ],\n",
       "       [2.8       ],\n",
       "       [1.9       ],\n",
       "       [3.05      ],\n",
       "       [3.65      ],\n",
       "       [2.5       ],\n",
       "       [2.2       ],\n",
       "       [3.        ],\n",
       "       [3.6       ],\n",
       "       [2.25      ],\n",
       "       [1.65      ],\n",
       "       [3.05      ],\n",
       "       [3.7       ],\n",
       "       [2.4       ],\n",
       "       [1.85      ],\n",
       "       [2.95      ],\n",
       "       [2.9       ],\n",
       "       [2.35      ],\n",
       "       [2.3       ],\n",
       "       [3.6       ],\n",
       "       [4.25      ],\n",
       "       [2.7       ],\n",
       "       [2.2       ],\n",
       "       [3.25      ],\n",
       "       [3.65      ],\n",
       "       [2.9       ],\n",
       "       [1.95      ],\n",
       "       [3.4       ],\n",
       "       [3.4       ],\n",
       "       [2.65      ],\n",
       "       [1.9       ],\n",
       "       [3.7       ],\n",
       "       [3.3       ],\n",
       "       [2.45      ],\n",
       "       [2.15      ],\n",
       "       [3.05      ],\n",
       "       [3.9       ],\n",
       "       [2.45      ],\n",
       "       [2.15      ],\n",
       "       [3.4       ],\n",
       "       [3.65      ],\n",
       "       [2.65      ],\n",
       "       [2.45      ],\n",
       "       [3.1       ],\n",
       "       [3.6       ],\n",
       "       [2.6       ],\n",
       "       [1.9       ],\n",
       "       [3.        ],\n",
       "       [3.8       ],\n",
       "       [2.75      ],\n",
       "       [1.75      ],\n",
       "       [3.55      ],\n",
       "       [3.55      ],\n",
       "       [2.65      ],\n",
       "       [1.9       ],\n",
       "       [3.05      ],\n",
       "       [3.85      ],\n",
       "       [2.6       ],\n",
       "       [1.45      ],\n",
       "       [3.15      ],\n",
       "       [3.15      ],\n",
       "       [2.35      ],\n",
       "       [1.65      ],\n",
       "       [2.7       ],\n",
       "       [3.35      ],\n",
       "       [2.85      ],\n",
       "       [2.3       ],\n",
       "       [3.45      ],\n",
       "       [3.65      ],\n",
       "       [2.75      ],\n",
       "       [1.95      ],\n",
       "       [2.6       ],\n",
       "       [3.65      ],\n",
       "       [2.45      ],\n",
       "       [1.6       ],\n",
       "       [2.9       ],\n",
       "       [3.5       ],\n",
       "       [2.3       ],\n",
       "       [1.75      ],\n",
       "       [3.2       ],\n",
       "       [3.        ],\n",
       "       [2.3       ],\n",
       "       [1.35      ],\n",
       "       [2.65      ],\n",
       "       [2.9       ],\n",
       "       [2.3       ],\n",
       "       [1.9       ],\n",
       "       [2.45      ],\n",
       "       [3.45      ],\n",
       "       [2.3       ],\n",
       "       [1.6       ],\n",
       "       [3.        ],\n",
       "       [3.05      ],\n",
       "       [2.3       ],\n",
       "       [1.5       ],\n",
       "       [2.55      ],\n",
       "       [3.1       ],\n",
       "       [2.2       ],\n",
       "       [1.5       ],\n",
       "       [3.05      ],\n",
       "       [3.35      ],\n",
       "       [2.55      ],\n",
       "       [2.2       ],\n",
       "       [2.55      ],\n",
       "       [3.1       ],\n",
       "       [2.1       ],\n",
       "       [1.65      ],\n",
       "       [2.7       ],\n",
       "       [2.8       ],\n",
       "       [2.2       ],\n",
       "       [1.3       ],\n",
       "       [2.25      ],\n",
       "       [3.2       ],\n",
       "       [2.        ],\n",
       "       [2.35      ],\n",
       "       [3.45      ],\n",
       "       [3.25      ],\n",
       "       [2.8       ],\n",
       "       [2.25      ],\n",
       "       [3.2       ],\n",
       "       [3.5       ],\n",
       "       [2.5       ],\n",
       "       [1.95      ],\n",
       "       [3.        ],\n",
       "       [4.        ],\n",
       "       [2.8       ],\n",
       "       [2.        ],\n",
       "       [3.1       ],\n",
       "       [3.5       ],\n",
       "       [2.4       ],\n",
       "       [2.4       ],\n",
       "       [3.5       ],\n",
       "       [4.3       ],\n",
       "       [3.2       ],\n",
       "       [2.1       ],\n",
       "       [3.45      ],\n",
       "       [3.95      ],\n",
       "       [2.55      ],\n",
       "       [2.1       ],\n",
       "       [3.45      ],\n",
       "       [3.7       ],\n",
       "       [2.9       ],\n",
       "       [1.55      ],\n",
       "       [3.        ],\n",
       "       [3.25      ],\n",
       "       [2.15      ],\n",
       "       [1.45      ],\n",
       "       [3.3       ],\n",
       "       [3.3       ],\n",
       "       [2.1       ],\n",
       "       [1.8       ],\n",
       "       [3.45      ],\n",
       "       [3.55      ],\n",
       "       [2.65      ],\n",
       "       [1.9       ],\n",
       "       [3.55      ],\n",
       "       [3.35      ],\n",
       "       [2.6       ],\n",
       "       [1.85      ],\n",
       "       [2.85      ],\n",
       "       [3.3       ],\n",
       "       [2.2       ],\n",
       "       [1.75      ],\n",
       "       [3.4       ],\n",
       "       [3.8       ],\n",
       "       [2.3       ],\n",
       "       [1.65      ],\n",
       "       [3.1       ],\n",
       "       [3.3       ],\n",
       "       [2.15      ],\n",
       "       [1.35      ],\n",
       "       [3.1       ],\n",
       "       [3.3       ],\n",
       "       [2.75      ],\n",
       "       [2.05      ],\n",
       "       [2.3       ],\n",
       "       [3.4       ],\n",
       "       [2.5       ],\n",
       "       [1.9       ],\n",
       "       [3.3       ],\n",
       "       [3.85      ],\n",
       "       [2.45      ],\n",
       "       [1.7       ],\n",
       "       [2.9       ],\n",
       "       [3.9       ],\n",
       "       [2.45      ],\n",
       "       [2.05      ],\n",
       "       [2.65      ],\n",
       "       [3.55      ],\n",
       "       [2.        ],\n",
       "       [1.45      ],\n",
       "       [3.3       ],\n",
       "       [3.05      ],\n",
       "       [2.5       ],\n",
       "       [2.15      ],\n",
       "       [3.2       ],\n",
       "       [3.25      ],\n",
       "       [2.5       ],\n",
       "       [2.        ],\n",
       "       [3.3       ],\n",
       "       [3.4       ],\n",
       "       [3.05      ],\n",
       "       [1.75      ],\n",
       "       [3.1       ],\n",
       "       [3.95      ],\n",
       "       [2.2       ],\n",
       "       [1.65      ],\n",
       "       [2.35      ],\n",
       "       [3.1       ],\n",
       "       [2.45      ],\n",
       "       [2.15      ],\n",
       "       [3.15      ],\n",
       "       [3.7       ],\n",
       "       [2.65      ],\n",
       "       [1.8       ],\n",
       "       [3.15      ],\n",
       "       [3.6       ],\n",
       "       [2.75      ],\n",
       "       [1.8       ],\n",
       "       [3.25      ],\n",
       "       [3.9       ],\n",
       "       [2.8       ],\n",
       "       [2.25      ],\n",
       "       [3.45      ],\n",
       "       [3.7       ],\n",
       "       [3.45      ],\n",
       "       [2.1       ],\n",
       "       [3.6       ],\n",
       "       [4.05      ],\n",
       "       [2.5       ],\n",
       "       [1.85      ],\n",
       "       [3.45      ],\n",
       "       [3.65      ],\n",
       "       [2.95      ],\n",
       "       [2.3       ],\n",
       "       [3.35      ],\n",
       "       [3.35      ],\n",
       "       [2.85      ],\n",
       "       [1.65      ],\n",
       "       [2.75      ],\n",
       "       [3.65      ],\n",
       "       [2.7       ],\n",
       "       [2.3       ],\n",
       "       [3.25      ],\n",
       "       [3.85      ],\n",
       "       [2.55      ],\n",
       "       [1.75      ],\n",
       "       [3.05      ],\n",
       "       [3.35      ],\n",
       "       [2.45      ],\n",
       "       [1.6       ],\n",
       "       [3.35      ],\n",
       "       [3.3       ],\n",
       "       [2.9       ],\n",
       "       [1.45      ],\n",
       "       [3.        ],\n",
       "       [3.4       ],\n",
       "       [2.65      ],\n",
       "       [1.6       ],\n",
       "       [2.95      ],\n",
       "       [3.4       ],\n",
       "       [2.7       ],\n",
       "       [1.9       ],\n",
       "       [3.2       ],\n",
       "       [4.15      ],\n",
       "       [2.7       ],\n",
       "       [1.7       ],\n",
       "       [3.4       ],\n",
       "       [3.95      ],\n",
       "       [2.75      ],\n",
       "       [1.35      ],\n",
       "       [2.95      ],\n",
       "       [3.75      ],\n",
       "       [2.95      ],\n",
       "       [1.85      ],\n",
       "       [3.25      ],\n",
       "       [3.85      ],\n",
       "       [2.45      ],\n",
       "       [1.55      ],\n",
       "       [3.        ],\n",
       "       [3.25      ],\n",
       "       [2.4       ],\n",
       "       [2.        ],\n",
       "       [3.15      ],\n",
       "       [3.7       ],\n",
       "       [2.15      ],\n",
       "       [1.95      ],\n",
       "       [3.05      ],\n",
       "       [3.4       ],\n",
       "       [2.45      ],\n",
       "       [1.95      ],\n",
       "       [3.        ],\n",
       "       [3.6       ],\n",
       "       [2.8       ],\n",
       "       [1.5       ],\n",
       "       [3.65      ],\n",
       "       [3.2       ],\n",
       "       [2.4       ],\n",
       "       [1.7       ],\n",
       "       [2.65      ],\n",
       "       [3.2       ],\n",
       "       [2.1       ],\n",
       "       [1.75      ],\n",
       "       [2.85      ],\n",
       "       [3.5       ],\n",
       "       [2.35      ],\n",
       "       [2.45      ],\n",
       "       [3.3       ],\n",
       "       [4.        ],\n",
       "       [3.2       ],\n",
       "       [1.55      ],\n",
       "       [3.5       ],\n",
       "       [3.8       ],\n",
       "       [2.75      ],\n",
       "       [1.5       ],\n",
       "       [3.1       ],\n",
       "       [3.45      ],\n",
       "       [2.3       ],\n",
       "       [1.3       ],\n",
       "       [2.85      ],\n",
       "       [3.45      ],\n",
       "       [2.15      ],\n",
       "       [2.        ],\n",
       "       [3.35      ],\n",
       "       [3.6       ],\n",
       "       [2.9       ],\n",
       "       [1.5       ],\n",
       "       [3.35      ],\n",
       "       [3.25      ],\n",
       "       [2.15      ],\n",
       "       [1.4       ],\n",
       "       [2.65      ],\n",
       "       [3.45      ],\n",
       "       [2.4       ],\n",
       "       [1.75      ],\n",
       "       [3.2       ],\n",
       "       [3.35      ],\n",
       "       [2.35      ],\n",
       "       [2.45      ],\n",
       "       [3.5       ],\n",
       "       [4.1       ],\n",
       "       [3.15      ],\n",
       "       [1.65      ],\n",
       "       [3.4       ],\n",
       "       [3.8       ],\n",
       "       [3.1       ],\n",
       "       [1.75      ],\n",
       "       [3.15      ],\n",
       "       [3.35      ],\n",
       "       [2.95      ],\n",
       "       [2.25      ],\n",
       "       [3.3       ],\n",
       "       [3.3       ],\n",
       "       [2.2       ],\n",
       "       [2.4       ],\n",
       "       [2.8       ],\n",
       "       [3.5       ],\n",
       "       [3.5       ],\n",
       "       [2.35      ],\n",
       "       [3.6       ],\n",
       "       [3.4       ],\n",
       "       [2.3       ],\n",
       "       [1.6       ],\n",
       "       [3.15      ],\n",
       "       [3.55      ],\n",
       "       [2.1       ],\n",
       "       [1.85      ],\n",
       "       [3.5       ],\n",
       "       [3.45      ],\n",
       "       [2.65      ],\n",
       "       [2.75      ],\n",
       "       [2.95      ],\n",
       "       [3.9       ],\n",
       "       [2.3       ],\n",
       "       [2.1       ],\n",
       "       [3.25      ],\n",
       "       [3.89473684],\n",
       "       [2.55      ],\n",
       "       [2.35      ],\n",
       "       [3.25      ],\n",
       "       [3.65      ],\n",
       "       [2.5       ],\n",
       "       [1.8       ],\n",
       "       [3.3       ],\n",
       "       [4.1       ],\n",
       "       [2.8       ],\n",
       "       [2.85      ],\n",
       "       [3.15      ],\n",
       "       [3.7       ],\n",
       "       [3.        ],\n",
       "       [1.9       ],\n",
       "       [2.95      ],\n",
       "       [3.65      ],\n",
       "       [2.3       ],\n",
       "       [2.2       ],\n",
       "       [3.6       ],\n",
       "       [3.85      ],\n",
       "       [2.6       ],\n",
       "       [2.3       ],\n",
       "       [3.25      ],\n",
       "       [3.55      ],\n",
       "       [2.6       ],\n",
       "       [2.1       ],\n",
       "       [3.25      ],\n",
       "       [4.2       ],\n",
       "       [2.85      ],\n",
       "       [1.5       ],\n",
       "       [3.3       ],\n",
       "       [4.        ],\n",
       "       [2.75      ],\n",
       "       [1.65      ],\n",
       "       [2.9       ],\n",
       "       [2.95      ],\n",
       "       [2.45      ],\n",
       "       [1.25      ],\n",
       "       [2.65      ],\n",
       "       [3.55      ],\n",
       "       [2.7       ],\n",
       "       [1.7       ],\n",
       "       [3.2       ],\n",
       "       [3.35      ],\n",
       "       [2.55      ],\n",
       "       [1.6       ],\n",
       "       [2.9       ],\n",
       "       [3.2       ],\n",
       "       [3.05      ],\n",
       "       [1.45      ],\n",
       "       [3.5       ],\n",
       "       [3.5       ],\n",
       "       [2.35      ],\n",
       "       [2.1       ],\n",
       "       [2.85      ],\n",
       "       [4.1       ],\n",
       "       [2.4       ],\n",
       "       [2.05      ],\n",
       "       [3.3       ],\n",
       "       [3.25      ],\n",
       "       [2.25      ],\n",
       "       [1.65      ],\n",
       "       [3.45      ],\n",
       "       [3.6       ],\n",
       "       [2.55      ],\n",
       "       [1.5       ],\n",
       "       [2.7       ],\n",
       "       [3.7       ],\n",
       "       [2.65      ],\n",
       "       [1.9       ],\n",
       "       [3.3       ],\n",
       "       [3.25      ],\n",
       "       [2.5       ],\n",
       "       [1.85      ],\n",
       "       [3.25      ],\n",
       "       [3.85      ],\n",
       "       [2.7       ],\n",
       "       [1.9       ],\n",
       "       [2.65      ],\n",
       "       [4.15      ],\n",
       "       [2.3       ],\n",
       "       [1.85      ],\n",
       "       [2.9       ],\n",
       "       [3.55      ],\n",
       "       [2.6       ],\n",
       "       [1.95      ],\n",
       "       [3.        ],\n",
       "       [3.35      ],\n",
       "       [2.45      ],\n",
       "       [1.85      ],\n",
       "       [3.4       ],\n",
       "       [3.3       ],\n",
       "       [2.5       ],\n",
       "       [1.4       ],\n",
       "       [2.8       ],\n",
       "       [3.25      ],\n",
       "       [2.3       ],\n",
       "       [1.7       ],\n",
       "       [2.75      ],\n",
       "       [2.6       ],\n",
       "       [2.1       ],\n",
       "       [2.25      ],\n",
       "       [2.8       ],\n",
       "       [3.5       ],\n",
       "       [2.        ],\n",
       "       [2.45      ],\n",
       "       [3.1       ],\n",
       "       [3.7       ],\n",
       "       [2.2       ],\n",
       "       [1.45      ],\n",
       "       [3.2       ],\n",
       "       [3.6       ],\n",
       "       [2.5       ],\n",
       "       [1.95      ],\n",
       "       [2.7       ],\n",
       "       [3.55      ],\n",
       "       [2.7       ],\n",
       "       [1.7       ],\n",
       "       [2.95      ],\n",
       "       [3.4       ],\n",
       "       [2.25      ],\n",
       "       [2.3       ],\n",
       "       [3.3       ],\n",
       "       [3.75      ],\n",
       "       [2.8       ],\n",
       "       [1.7       ],\n",
       "       [3.25      ],\n",
       "       [3.75      ],\n",
       "       [2.3       ],\n",
       "       [1.85      ],\n",
       "       [2.85      ],\n",
       "       [3.15      ],\n",
       "       [2.25      ],\n",
       "       [1.95      ],\n",
       "       [2.6       ],\n",
       "       [3.        ],\n",
       "       [2.25      ],\n",
       "       [2.15      ],\n",
       "       [2.95      ],\n",
       "       [3.55      ],\n",
       "       [2.6       ],\n",
       "       [1.55      ],\n",
       "       [2.75      ],\n",
       "       [3.35      ],\n",
       "       [2.35      ],\n",
       "       [1.55      ],\n",
       "       [2.85      ],\n",
       "       [3.3       ],\n",
       "       [2.3       ],\n",
       "       [1.6       ],\n",
       "       [2.7       ],\n",
       "       [3.4       ],\n",
       "       [2.4       ],\n",
       "       [1.85      ],\n",
       "       [2.85      ],\n",
       "       [3.6       ],\n",
       "       [2.25      ],\n",
       "       [1.6       ],\n",
       "       [2.8       ],\n",
       "       [3.85      ],\n",
       "       [2.65      ],\n",
       "       [1.5       ],\n",
       "       [2.7       ],\n",
       "       [3.05      ],\n",
       "       [2.6       ],\n",
       "       [1.75      ],\n",
       "       [3.        ],\n",
       "       [3.        ],\n",
       "       [2.45      ],\n",
       "       [2.05      ],\n",
       "       [3.2       ],\n",
       "       [3.6       ],\n",
       "       [2.85      ],\n",
       "       [1.7       ],\n",
       "       [2.6       ],\n",
       "       [4.15      ],\n",
       "       [2.65      ],\n",
       "       [1.4       ],\n",
       "       [2.85      ],\n",
       "       [3.15      ],\n",
       "       [2.55      ],\n",
       "       [1.85      ],\n",
       "       [2.7       ],\n",
       "       [3.3       ],\n",
       "       [2.15      ],\n",
       "       [2.2       ],\n",
       "       [3.2       ],\n",
       "       [3.75      ],\n",
       "       [2.9       ],\n",
       "       [1.9       ],\n",
       "       [2.8       ],\n",
       "       [4.15      ],\n",
       "       [2.95      ],\n",
       "       [2.15      ],\n",
       "       [2.95      ],\n",
       "       [3.35      ],\n",
       "       [2.95      ],\n",
       "       [2.1       ],\n",
       "       [2.85      ],\n",
       "       [3.65      ],\n",
       "       [2.9       ],\n",
       "       [2.35      ],\n",
       "       [3.15      ],\n",
       "       [3.25      ],\n",
       "       [2.6       ],\n",
       "       [2.75      ],\n",
       "       [2.8       ],\n",
       "       [3.8       ],\n",
       "       [3.4       ],\n",
       "       [1.65      ],\n",
       "       [3.2       ],\n",
       "       [3.5       ],\n",
       "       [2.7       ],\n",
       "       [1.95      ],\n",
       "       [3.15      ],\n",
       "       [3.15      ],\n",
       "       [2.75      ],\n",
       "       [2.05      ],\n",
       "       [3.15      ],\n",
       "       [3.5       ],\n",
       "       [2.85      ],\n",
       "       [2.05      ],\n",
       "       [2.75      ],\n",
       "       [3.6       ],\n",
       "       [2.6       ],\n",
       "       [1.9       ],\n",
       "       [2.8       ],\n",
       "       [3.15      ],\n",
       "       [2.65      ],\n",
       "       [1.7       ],\n",
       "       [2.8       ],\n",
       "       [3.55      ],\n",
       "       [2.35      ],\n",
       "       [1.85      ],\n",
       "       [2.9       ],\n",
       "       [3.75      ],\n",
       "       [2.3       ],\n",
       "       [1.9       ],\n",
       "       [2.95      ],\n",
       "       [3.2       ],\n",
       "       [2.4       ],\n",
       "       [1.85      ],\n",
       "       [3.05      ],\n",
       "       [2.7       ],\n",
       "       [2.2       ],\n",
       "       [1.55      ],\n",
       "       [2.95      ],\n",
       "       [2.85      ],\n",
       "       [2.6       ],\n",
       "       [2.        ],\n",
       "       [3.8       ],\n",
       "       [3.95      ],\n",
       "       [3.05      ],\n",
       "       [2.        ],\n",
       "       [3.55      ],\n",
       "       [3.4       ],\n",
       "       [2.3       ],\n",
       "       [1.9       ],\n",
       "       [3.15      ],\n",
       "       [3.85      ],\n",
       "       [2.85      ],\n",
       "       [1.95      ],\n",
       "       [2.95      ],\n",
       "       [3.45      ],\n",
       "       [2.5       ],\n",
       "       [1.95      ],\n",
       "       [3.3       ],\n",
       "       [3.6       ],\n",
       "       [2.75      ],\n",
       "       [1.95      ],\n",
       "       [2.9       ],\n",
       "       [3.55      ],\n",
       "       [2.75      ],\n",
       "       [1.55      ],\n",
       "       [3.25      ],\n",
       "       [4.2       ],\n",
       "       [2.55      ],\n",
       "       [2.5       ],\n",
       "       [3.2       ],\n",
       "       [3.5       ],\n",
       "       [2.75      ],\n",
       "       [2.2       ],\n",
       "       [3.25      ],\n",
       "       [4.15      ],\n",
       "       [2.55      ],\n",
       "       [2.2       ],\n",
       "       [3.3       ],\n",
       "       [3.85      ],\n",
       "       [2.7       ],\n",
       "       [1.6       ],\n",
       "       [3.45      ],\n",
       "       [3.65      ],\n",
       "       [2.7       ],\n",
       "       [2.1       ],\n",
       "       [2.75      ],\n",
       "       [3.55      ],\n",
       "       [2.9       ],\n",
       "       [2.        ],\n",
       "       [2.95      ],\n",
       "       [3.8       ],\n",
       "       [2.75      ],\n",
       "       [2.45      ],\n",
       "       [3.55      ],\n",
       "       [3.75      ],\n",
       "       [2.8       ],\n",
       "       [2.15      ],\n",
       "       [3.15      ],\n",
       "       [4.05      ],\n",
       "       [3.1       ],\n",
       "       [1.8       ],\n",
       "       [3.35      ],\n",
       "       [3.75      ],\n",
       "       [2.65      ],\n",
       "       [2.6       ],\n",
       "       [3.45      ],\n",
       "       [3.6       ],\n",
       "       [2.65      ],\n",
       "       [1.4       ],\n",
       "       [2.95      ],\n",
       "       [3.45      ],\n",
       "       [2.7       ],\n",
       "       [1.55      ],\n",
       "       [3.15      ],\n",
       "       [4.15      ],\n",
       "       [2.6       ],\n",
       "       [2.45      ],\n",
       "       [3.05      ],\n",
       "       [3.7       ],\n",
       "       [2.7       ],\n",
       "       [2.3       ],\n",
       "       [3.1       ],\n",
       "       [4.05      ],\n",
       "       [2.45      ],\n",
       "       [1.95      ],\n",
       "       [3.35      ],\n",
       "       [3.8       ],\n",
       "       [2.5       ],\n",
       "       [2.5       ],\n",
       "       [2.35      ],\n",
       "       [3.25      ],\n",
       "       [2.95      ],\n",
       "       [1.8       ],\n",
       "       [3.2       ],\n",
       "       [4.15      ],\n",
       "       [2.25      ]])"
      ]
     },
     "execution_count": 21,
     "metadata": {},
     "output_type": "execute_result"
    }
   ],
   "source": [
    "y = outputs.values # converting dataframe \"outputs\" into array form \n",
    "y "
   ]
  },
  {
   "cell_type": "code",
   "execution_count": 22,
   "metadata": {},
   "outputs": [
    {
     "data": {
      "text/plain": [
       "(960, 1)"
      ]
     },
     "execution_count": 22,
     "metadata": {},
     "output_type": "execute_result"
    }
   ],
   "source": [
    "y.shape"
   ]
  },
  {
   "cell_type": "code",
   "execution_count": 23,
   "metadata": {},
   "outputs": [],
   "source": [
    "# Splitting data for training and testing \n",
    "# Here both x and y are in array form (non-scaled)\n",
    "\n",
    "from sklearn.model_selection import train_test_split\n",
    "\n",
    "x_train, x_test, y_train, y_test = train_test_split(x, y, test_size=0.2, random_state=0) \n",
    "# x_train, x_test, y_train, y_test = train_test_split(x, y, test_size=0.2, shuffle=True)\n",
    "\n",
    "# Here shuffling data is also giving same results."
   ]
  },
  {
   "cell_type": "code",
   "execution_count": 24,
   "metadata": {},
   "outputs": [
    {
     "data": {
      "text/plain": [
       "((768, 45), (192, 45), (768, 1), (192, 1))"
      ]
     },
     "execution_count": 24,
     "metadata": {},
     "output_type": "execute_result"
    }
   ],
   "source": [
    "x_train.shape, x_test.shape, y_train.shape, y_test.shape"
   ]
  },
  {
   "cell_type": "code",
   "execution_count": 25,
   "metadata": {},
   "outputs": [],
   "source": [
    "# Feature Scaling # MinMaxScaler # zero mean, unit variance # range [0,1].\n",
    "# Here scaling input and output both\n",
    "\n",
    "scaler = MinMaxScaler()\n",
    "x_train = scaler.fit_transform(x_train)\n",
    "x_test = scaler.transform(x_test)\n",
    "\n",
    "y_train = scaler.fit_transform(y_train)\n",
    "y_test = scaler.transform(y_test)"
   ]
  },
  {
   "cell_type": "code",
   "execution_count": 26,
   "metadata": {},
   "outputs": [
    {
     "data": {
      "text/plain": [
       "45"
      ]
     },
     "execution_count": 26,
     "metadata": {},
     "output_type": "execute_result"
    }
   ],
   "source": [
    "x_train.shape[1] "
   ]
  },
  {
   "cell_type": "code",
   "execution_count": 27,
   "metadata": {},
   "outputs": [
    {
     "data": {
      "text/plain": [
       "45"
      ]
     },
     "execution_count": 27,
     "metadata": {},
     "output_type": "execute_result"
    }
   ],
   "source": [
    "x.shape[1] "
   ]
  },
  {
   "cell_type": "code",
   "execution_count": 28,
   "metadata": {},
   "outputs": [
    {
     "data": {
      "text/plain": [
       "1"
      ]
     },
     "execution_count": 28,
     "metadata": {},
     "output_type": "execute_result"
    }
   ],
   "source": [
    "y.shape[1] "
   ]
  },
  {
   "cell_type": "code",
   "execution_count": 29,
   "metadata": {},
   "outputs": [],
   "source": [
    "# Model developed for x => y mapping i.e, 13D MFCC, 10D LSF and 22D MRAM speech features -> subjective MOS"
   ]
  },
  {
   "cell_type": "code",
   "execution_count": 30,
   "metadata": {},
   "outputs": [],
   "source": [
    "# Building neural network \n",
    "\n",
    "def baseline_model():\n",
    "    model = Sequential()\n",
    "    model.add(Dense(128, input_dim=x.shape[1], activation='relu', kernel_initializer='random_normal')) # Input layer and 1st hidden layer\n",
    "    model.add(BatchNormalization())\n",
    "    model.add(Dense(64, activation='relu', kernel_initializer='random_normal')) # 2nd Hidden layer\n",
    "    model.add(BatchNormalization())\n",
    "    model.add(Dense(32, activation='relu', kernel_initializer='random_normal')) # 3rd Hidden layer\n",
    "    model.add(Dropout(0.3))\n",
    "    model.add(Dense(y.shape[1], activation='relu', kernel_initializer='random_normal')) # Output Layer\n",
    "    model.compile(optimizer='adam', loss='mean_squared_error', metrics = ['mean_absolute_error']) \n",
    "    \n",
    "    return model"
   ]
  },
  {
   "cell_type": "code",
   "execution_count": 31,
   "metadata": {},
   "outputs": [],
   "source": [
    "m = baseline_model()"
   ]
  },
  {
   "cell_type": "code",
   "execution_count": 32,
   "metadata": {},
   "outputs": [
    {
     "name": "stdout",
     "output_type": "stream",
     "text": [
      "Model: \"sequential\"\n",
      "_________________________________________________________________\n",
      "Layer (type)                 Output Shape              Param #   \n",
      "=================================================================\n",
      "dense (Dense)                (None, 128)               5888      \n",
      "_________________________________________________________________\n",
      "batch_normalization (BatchNo (None, 128)               512       \n",
      "_________________________________________________________________\n",
      "dense_1 (Dense)              (None, 64)                8256      \n",
      "_________________________________________________________________\n",
      "batch_normalization_1 (Batch (None, 64)                256       \n",
      "_________________________________________________________________\n",
      "dense_2 (Dense)              (None, 32)                2080      \n",
      "_________________________________________________________________\n",
      "dropout (Dropout)            (None, 32)                0         \n",
      "_________________________________________________________________\n",
      "dense_3 (Dense)              (None, 1)                 33        \n",
      "=================================================================\n",
      "Total params: 17,025\n",
      "Trainable params: 16,641\n",
      "Non-trainable params: 384\n",
      "_________________________________________________________________\n"
     ]
    }
   ],
   "source": [
    "m.summary()"
   ]
  },
  {
   "cell_type": "code",
   "execution_count": 33,
   "metadata": {},
   "outputs": [],
   "source": [
    "# To visualize DNN model\n",
    "\n",
    "plot_model(m, to_file='SQM_model_design.pdf', show_shapes=True, show_layer_names=True)"
   ]
  },
  {
   "cell_type": "code",
   "execution_count": 34,
   "metadata": {},
   "outputs": [],
   "source": [
    "# Early Stopping\n",
    "\n",
    "early_stopping = keras.callbacks.EarlyStopping(monitor=\"val_loss\", patience=5, verbose=2)\n",
    "\n",
    "# It stops the training after 5 epochs if the validation loss doesn't improve\n",
    "# Verbosity mode 0 = silent, 1 = progress bar, 2 = one line per epoch."
   ]
  },
  {
   "cell_type": "code",
   "execution_count": 35,
   "metadata": {
    "scrolled": false
   },
   "outputs": [
    {
     "name": "stdout",
     "output_type": "stream",
     "text": [
      "Epoch 1/200\n",
      "20/20 [==============================] - 3s 28ms/step - loss: 0.1374 - mean_absolute_error: 0.3127 - val_loss: 0.2072 - val_mean_absolute_error: 0.4010\n",
      "Epoch 2/200\n",
      "20/20 [==============================] - 0s 5ms/step - loss: 0.0534 - mean_absolute_error: 0.1862 - val_loss: 0.1762 - val_mean_absolute_error: 0.3637\n",
      "Epoch 3/200\n",
      "20/20 [==============================] - 0s 4ms/step - loss: 0.0355 - mean_absolute_error: 0.1507 - val_loss: 0.1484 - val_mean_absolute_error: 0.3287\n",
      "Epoch 4/200\n",
      "20/20 [==============================] - 0s 6ms/step - loss: 0.0330 - mean_absolute_error: 0.1442 - val_loss: 0.1295 - val_mean_absolute_error: 0.3032\n",
      "Epoch 5/200\n",
      "20/20 [==============================] - 0s 5ms/step - loss: 0.0254 - mean_absolute_error: 0.1270 - val_loss: 0.1031 - val_mean_absolute_error: 0.2668\n",
      "Epoch 6/200\n",
      "20/20 [==============================] - 0s 6ms/step - loss: 0.0266 - mean_absolute_error: 0.1284 - val_loss: 0.0916 - val_mean_absolute_error: 0.2510\n",
      "Epoch 7/200\n",
      "20/20 [==============================] - 0s 5ms/step - loss: 0.0232 - mean_absolute_error: 0.1222 - val_loss: 0.0819 - val_mean_absolute_error: 0.2367\n",
      "Epoch 8/200\n",
      "20/20 [==============================] - 0s 6ms/step - loss: 0.0250 - mean_absolute_error: 0.1241 - val_loss: 0.0668 - val_mean_absolute_error: 0.2147\n",
      "Epoch 9/200\n",
      "20/20 [==============================] - 0s 5ms/step - loss: 0.0203 - mean_absolute_error: 0.1123 - val_loss: 0.0574 - val_mean_absolute_error: 0.2007\n",
      "Epoch 10/200\n",
      "20/20 [==============================] - 0s 7ms/step - loss: 0.0204 - mean_absolute_error: 0.1124 - val_loss: 0.0488 - val_mean_absolute_error: 0.1880\n",
      "Epoch 11/200\n",
      "20/20 [==============================] - 0s 7ms/step - loss: 0.0198 - mean_absolute_error: 0.1115 - val_loss: 0.0501 - val_mean_absolute_error: 0.1898\n",
      "Epoch 12/200\n",
      "20/20 [==============================] - 0s 7ms/step - loss: 0.0185 - mean_absolute_error: 0.1031 - val_loss: 0.0455 - val_mean_absolute_error: 0.1822\n",
      "Epoch 13/200\n",
      "20/20 [==============================] - 0s 6ms/step - loss: 0.0197 - mean_absolute_error: 0.1111 - val_loss: 0.0419 - val_mean_absolute_error: 0.1741\n",
      "Epoch 14/200\n",
      "20/20 [==============================] - 0s 6ms/step - loss: 0.0172 - mean_absolute_error: 0.1034 - val_loss: 0.0405 - val_mean_absolute_error: 0.1718\n",
      "Epoch 15/200\n",
      "20/20 [==============================] - 0s 8ms/step - loss: 0.0166 - mean_absolute_error: 0.1020 - val_loss: 0.0375 - val_mean_absolute_error: 0.1648\n",
      "Epoch 16/200\n",
      "20/20 [==============================] - 0s 6ms/step - loss: 0.0174 - mean_absolute_error: 0.1048 - val_loss: 0.0330 - val_mean_absolute_error: 0.1526\n",
      "Epoch 17/200\n",
      "20/20 [==============================] - 0s 6ms/step - loss: 0.0140 - mean_absolute_error: 0.0946 - val_loss: 0.0342 - val_mean_absolute_error: 0.1565\n",
      "Epoch 18/200\n",
      "20/20 [==============================] - 0s 7ms/step - loss: 0.0159 - mean_absolute_error: 0.0988 - val_loss: 0.0316 - val_mean_absolute_error: 0.1454\n",
      "Epoch 19/200\n",
      "20/20 [==============================] - 0s 6ms/step - loss: 0.0161 - mean_absolute_error: 0.1008 - val_loss: 0.0270 - val_mean_absolute_error: 0.1351\n",
      "Epoch 20/200\n",
      "20/20 [==============================] - 0s 6ms/step - loss: 0.0152 - mean_absolute_error: 0.0969 - val_loss: 0.0303 - val_mean_absolute_error: 0.1452\n",
      "Epoch 21/200\n",
      "20/20 [==============================] - 0s 7ms/step - loss: 0.0140 - mean_absolute_error: 0.0909 - val_loss: 0.0216 - val_mean_absolute_error: 0.1194\n",
      "Epoch 22/200\n",
      "20/20 [==============================] - 0s 6ms/step - loss: 0.0137 - mean_absolute_error: 0.0924 - val_loss: 0.0208 - val_mean_absolute_error: 0.1159\n",
      "Epoch 23/200\n",
      "20/20 [==============================] - 0s 6ms/step - loss: 0.0134 - mean_absolute_error: 0.0911 - val_loss: 0.0226 - val_mean_absolute_error: 0.1210\n",
      "Epoch 24/200\n",
      "20/20 [==============================] - 0s 5ms/step - loss: 0.0142 - mean_absolute_error: 0.0928 - val_loss: 0.0162 - val_mean_absolute_error: 0.1023\n",
      "Epoch 25/200\n",
      "20/20 [==============================] - 0s 7ms/step - loss: 0.0131 - mean_absolute_error: 0.0880 - val_loss: 0.0162 - val_mean_absolute_error: 0.1027\n",
      "Epoch 26/200\n",
      "20/20 [==============================] - 0s 8ms/step - loss: 0.0130 - mean_absolute_error: 0.0909 - val_loss: 0.0155 - val_mean_absolute_error: 0.0976\n",
      "Epoch 27/200\n",
      "20/20 [==============================] - 0s 6ms/step - loss: 0.0133 - mean_absolute_error: 0.0883 - val_loss: 0.0147 - val_mean_absolute_error: 0.0977\n",
      "Epoch 28/200\n",
      "20/20 [==============================] - 0s 7ms/step - loss: 0.0117 - mean_absolute_error: 0.0842 - val_loss: 0.0149 - val_mean_absolute_error: 0.0967\n",
      "Epoch 29/200\n",
      "20/20 [==============================] - 0s 7ms/step - loss: 0.0126 - mean_absolute_error: 0.0878 - val_loss: 0.0122 - val_mean_absolute_error: 0.0885\n",
      "Epoch 30/200\n",
      "20/20 [==============================] - 0s 6ms/step - loss: 0.0117 - mean_absolute_error: 0.0852 - val_loss: 0.0107 - val_mean_absolute_error: 0.0815\n",
      "Epoch 31/200\n",
      "20/20 [==============================] - 0s 5ms/step - loss: 0.0120 - mean_absolute_error: 0.0863 - val_loss: 0.0136 - val_mean_absolute_error: 0.0925\n",
      "Epoch 32/200\n",
      "20/20 [==============================] - 0s 6ms/step - loss: 0.0119 - mean_absolute_error: 0.0852 - val_loss: 0.0100 - val_mean_absolute_error: 0.0800\n",
      "Epoch 33/200\n",
      "20/20 [==============================] - 0s 6ms/step - loss: 0.0108 - mean_absolute_error: 0.0830 - val_loss: 0.0102 - val_mean_absolute_error: 0.0800\n",
      "Epoch 34/200\n",
      "20/20 [==============================] - 0s 5ms/step - loss: 0.0122 - mean_absolute_error: 0.0863 - val_loss: 0.0107 - val_mean_absolute_error: 0.0825\n",
      "Epoch 35/200\n",
      "20/20 [==============================] - 0s 6ms/step - loss: 0.0123 - mean_absolute_error: 0.0856 - val_loss: 0.0111 - val_mean_absolute_error: 0.0840\n",
      "Epoch 36/200\n",
      "20/20 [==============================] - 0s 7ms/step - loss: 0.0118 - mean_absolute_error: 0.0840 - val_loss: 0.0102 - val_mean_absolute_error: 0.0820\n",
      "Epoch 37/200\n",
      "20/20 [==============================] - 0s 7ms/step - loss: 0.0106 - mean_absolute_error: 0.0807 - val_loss: 0.0121 - val_mean_absolute_error: 0.0858\n",
      "Epoch 00037: early stopping\n"
     ]
    }
   ],
   "source": [
    "# Fitting Neural network to training set\n",
    "\n",
    "history=m.fit(x_train, y_train, validation_data=(x_test, y_test), callbacks=[early_stopping],\n",
    "              batch_size=40, epochs=200) # can keep batch_size = 32 also\n",
    "\n",
    "# verbose 0 = silent, 1 = progress bar, 2 = one line per epoch; verbose=2 is recommended."
   ]
  },
  {
   "cell_type": "code",
   "execution_count": 36,
   "metadata": {},
   "outputs": [
    {
     "name": "stdout",
     "output_type": "stream",
     "text": [
      "6/6 [==============================] - 0s 5ms/step - loss: 0.0121 - mean_absolute_error: 0.0858\n"
     ]
    },
    {
     "data": {
      "text/plain": [
       "[0.012051288038492203, 0.08575930446386337]"
      ]
     },
     "execution_count": 36,
     "metadata": {},
     "output_type": "execute_result"
    }
   ],
   "source": [
    "# To evaluate model test loss\n",
    "test_loss = m.evaluate(x_test, y_test)\n",
    "test_loss"
   ]
  },
  {
   "cell_type": "code",
   "execution_count": 37,
   "metadata": {
    "scrolled": true
   },
   "outputs": [
    {
     "data": {
      "image/png": "[encoded data removed]",
      "text/plain": [
       "<Figure size 432x288 with 1 Axes>"
      ]
     },
     "metadata": {
      "needs_background": "light"
     },
     "output_type": "display_data"
    }
   ],
   "source": [
    "# To plot training loss only\n",
    "\n",
    "loss = history.history['loss']\n",
    "epochs = range(1, len(loss)+1)\n",
    "plt.title('Training loss')\n",
    "plt.plot(epochs, loss, 'ro', label='Training loss')\n",
    "plt.xlabel('Number of epochs')\n",
    "plt.ylabel('Training loss')\n",
    "plt.legend()\n",
    "plt.grid(True)\n",
    "plt.show()"
   ]
  },
  {
   "cell_type": "code",
   "execution_count": 38,
   "metadata": {},
   "outputs": [
    {
     "name": "stdout",
     "output_type": "stream",
     "text": [
      "dict_keys(['loss', 'mean_absolute_error', 'val_loss', 'val_mean_absolute_error'])\n"
     ]
    }
   ],
   "source": [
    "# list all data (metrics) in training history\n",
    "\n",
    "print(history.history.keys())"
   ]
  },
  {
   "cell_type": "code",
   "execution_count": 39,
   "metadata": {},
   "outputs": [
    {
     "data": {
      "image/png": "[encoded data removed]",
      "text/plain": [
       "<Figure size 432x288 with 1 Axes>"
      ]
     },
     "metadata": {
      "needs_background": "light"
     },
     "output_type": "display_data"
    }
   ],
   "source": [
    "# To summarize history for accuracy\n",
    "# Plot of accuracy on the training and validation (test) datasets over training epochs\n",
    "\n",
    "acc = history.history['mean_absolute_error']\n",
    "val_acc = history.history['val_mean_absolute_error']\n",
    "\n",
    "plt.plot(acc)\n",
    "plt.plot(val_acc)\n",
    "plt.grid(True)\n",
    "plt.title('Model accuracy')\n",
    "plt.ylabel('Mean Absolute Error', fontsize=14)\n",
    "plt.xlabel('Number of Epochs', fontsize=14)\n",
    "plt.legend(['train', 'test'], loc='upper right')\n",
    "plt.xlim(0,40)\n",
    "# plt.ylim(0,0.25)\n",
    "# plt.savefig('model_accuracy.pdf', bbox_inches='tight')\n",
    "plt.show()"
   ]
  },
  {
   "cell_type": "code",
   "execution_count": 40,
   "metadata": {},
   "outputs": [
    {
     "data": {
      "image/png": "[encoded data removed]",
      "text/plain": [
       "<Figure size 432x288 with 1 Axes>"
      ]
     },
     "metadata": {
      "needs_background": "light"
     },
     "output_type": "display_data"
    }
   ],
   "source": [
    "# To summarize history for loss\n",
    "# Plot of loss on the training and validation (test) datasets over training epochs.\n",
    "\n",
    "# plt.figure(figsize=(7, 5))\n",
    "loss = history.history['loss']\n",
    "val_loss = history.history['val_loss']\n",
    "plt.plot(loss)\n",
    "plt.plot(val_loss)\n",
    "plt.grid('True')\n",
    "plt.title('Model loss')\n",
    "plt.ylabel('Mean Square Error', fontsize=15)\n",
    "plt.xlabel('Number of Epochs', fontsize=15)\n",
    "plt.legend(['train', 'test'], loc='upper right', fontsize=15)\n",
    "plt.xlim(0,40)\n",
    "# plt.ylim(0,0.25)\n",
    "# plt.text(23, 0.22, '(G)', fontsize = 20)\n",
    "# plt.savefig('SQM_MRAM_MFCC_LSF_loss_plot.pdf', bbox_inches='tight')\n",
    "plt.show()"
   ]
  },
  {
   "cell_type": "code",
   "execution_count": 41,
   "metadata": {},
   "outputs": [],
   "source": [
    "# Making the predictions for testing\n",
    "\n",
    "# Predicting the Test set results\n",
    "y_pred = m.predict(x_test) \n",
    "# y_pred"
   ]
  },
  {
   "cell_type": "code",
   "execution_count": 42,
   "metadata": {},
   "outputs": [
    {
     "data": {
      "text/plain": [
       "(192, 1)"
      ]
     },
     "execution_count": 42,
     "metadata": {},
     "output_type": "execute_result"
    }
   ],
   "source": [
    "y_pred.shape"
   ]
  },
  {
   "cell_type": "code",
   "execution_count": 43,
   "metadata": {},
   "outputs": [
    {
     "data": {
      "text/plain": [
       "numpy.ndarray"
      ]
     },
     "execution_count": 43,
     "metadata": {},
     "output_type": "execute_result"
    }
   ],
   "source": [
    "type(y_pred)"
   ]
  },
  {
   "cell_type": "code",
   "execution_count": 44,
   "metadata": {},
   "outputs": [],
   "source": [
    "# y_pred"
   ]
  },
  {
   "cell_type": "code",
   "execution_count": 45,
   "metadata": {},
   "outputs": [
    {
     "name": "stdout",
     "output_type": "stream",
     "text": [
      "Test Mean Squared error (MSE): 0.012051287583542564\n",
      "Test Root mean squared error (RMSE): 0.10977835662617001\n",
      "Test Mean absolute error (MAE): 0.0857593010289855\n",
      "R2 Score Test: 0.7613616287287697\n"
     ]
    }
   ],
   "source": [
    "# Model performance # Test error\n",
    "\n",
    "# Measure MSE error  \n",
    "mse_test = metrics.mean_squared_error(y_test, y_pred)\n",
    "print(\"Test Mean Squared error (MSE): {}\".format(mse_test))\n",
    "\n",
    "# Measure RMSE error \n",
    "rmse_test = np.sqrt(metrics.mean_squared_error(y_test, y_pred))\n",
    "print(\"Test Root mean squared error (RMSE): {}\".format(rmse_test))\n",
    "\n",
    "# Measure MAE error\n",
    "mae_test = metrics.mean_absolute_error(y_test, y_pred)\n",
    "print(\"Test Mean absolute error (MAE): {}\".format(mae_test))\n",
    "\n",
    "# Regression score for test \n",
    "y_pred_flat = y_pred.flatten()\n",
    "y_test_flat = y_test.flatten()\n",
    "r2_score_test = metrics.r2_score(y_test_flat, y_pred_flat)\n",
    "print(\"R2 Score Test: {}\".format(r2_score_test))"
   ]
  },
  {
   "cell_type": "code",
   "execution_count": 46,
   "metadata": {},
   "outputs": [
    {
     "data": {
      "text/plain": [
       "array([[0.44052184],\n",
       "       [0.441496  ],\n",
       "       [0.61182684],\n",
       "       [0.40828973],\n",
       "       [0.17218469],\n",
       "       [0.6550976 ],\n",
       "       [0.5309035 ],\n",
       "       [0.6611258 ],\n",
       "       [0.74611276],\n",
       "       [0.17321299],\n",
       "       [0.21553625],\n",
       "       [0.34568512],\n",
       "       [0.19161865],\n",
       "       [0.38807502],\n",
       "       [0.7721593 ],\n",
       "       [0.24334002],\n",
       "       [0.4116955 ],\n",
       "       [0.19773331],\n",
       "       [0.5912958 ],\n",
       "       [0.5849882 ],\n",
       "       [0.5021336 ],\n",
       "       [0.29135925],\n",
       "       [0.68872255],\n",
       "       [0.15996873],\n",
       "       [0.66801614],\n",
       "       [0.7224651 ],\n",
       "       [0.515702  ],\n",
       "       [0.70531994],\n",
       "       [0.6006888 ],\n",
       "       [0.3243962 ],\n",
       "       [0.67651004],\n",
       "       [0.584875  ],\n",
       "       [0.18954295],\n",
       "       [0.2951494 ],\n",
       "       [0.5598046 ],\n",
       "       [0.5275163 ],\n",
       "       [0.19219549],\n",
       "       [0.480042  ],\n",
       "       [0.37868005],\n",
       "       [0.44503254],\n",
       "       [0.14360248],\n",
       "       [0.5876057 ],\n",
       "       [0.26700568],\n",
       "       [0.25373447],\n",
       "       [0.6934008 ],\n",
       "       [0.39601052],\n",
       "       [0.72367007],\n",
       "       [0.70895547],\n",
       "       [0.6626609 ],\n",
       "       [0.62208295],\n",
       "       [0.5156206 ],\n",
       "       [0.641798  ],\n",
       "       [0.6018202 ],\n",
       "       [0.76791924],\n",
       "       [0.45280826],\n",
       "       [0.4459795 ],\n",
       "       [0.41665664],\n",
       "       [0.551316  ],\n",
       "       [0.67166406],\n",
       "       [0.40144268],\n",
       "       [0.3098938 ],\n",
       "       [0.19843829],\n",
       "       [0.3901228 ],\n",
       "       [0.62985235],\n",
       "       [0.69270986],\n",
       "       [0.6912142 ],\n",
       "       [0.19876471],\n",
       "       [0.3488518 ],\n",
       "       [0.17162462],\n",
       "       [0.18576607],\n",
       "       [0.73252136],\n",
       "       [0.8263588 ],\n",
       "       [0.30069983],\n",
       "       [0.24563971],\n",
       "       [0.30212393],\n",
       "       [0.2395444 ],\n",
       "       [0.4048511 ],\n",
       "       [0.5293899 ],\n",
       "       [0.7723605 ],\n",
       "       [0.4611374 ],\n",
       "       [0.14947541],\n",
       "       [0.4733727 ],\n",
       "       [0.1928575 ],\n",
       "       [0.734521  ],\n",
       "       [0.7822951 ],\n",
       "       [0.60131603],\n",
       "       [0.21166758],\n",
       "       [0.42605314],\n",
       "       [0.7944869 ],\n",
       "       [0.741616  ],\n",
       "       [0.7511137 ],\n",
       "       [0.24960773],\n",
       "       [0.6062607 ],\n",
       "       [0.33544657],\n",
       "       [0.63896585],\n",
       "       [0.57631314],\n",
       "       [0.3120992 ],\n",
       "       [0.5787803 ],\n",
       "       [0.37660843],\n",
       "       [0.6623018 ],\n",
       "       [0.47192246],\n",
       "       [0.25173348],\n",
       "       [0.48883143],\n",
       "       [0.17560859],\n",
       "       [0.22410136],\n",
       "       [0.2521621 ],\n",
       "       [0.470867  ],\n",
       "       [0.14254826],\n",
       "       [0.49846932],\n",
       "       [0.63267577],\n",
       "       [0.19317809],\n",
       "       [0.59383845],\n",
       "       [0.1853807 ],\n",
       "       [0.7233435 ],\n",
       "       [0.18960968],\n",
       "       [0.70107836],\n",
       "       [0.19924726],\n",
       "       [0.39932555],\n",
       "       [0.27045643],\n",
       "       [0.46470052],\n",
       "       [0.6090679 ],\n",
       "       [0.32732826],\n",
       "       [0.49529505],\n",
       "       [0.32867283],\n",
       "       [0.43490297],\n",
       "       [0.31074843],\n",
       "       [0.58269876],\n",
       "       [0.57324433],\n",
       "       [0.34178075],\n",
       "       [0.33456266],\n",
       "       [0.43439287],\n",
       "       [0.7089963 ],\n",
       "       [0.15624289],\n",
       "       [0.3854829 ],\n",
       "       [0.4312082 ],\n",
       "       [0.36308068],\n",
       "       [0.2703784 ],\n",
       "       [0.65790653],\n",
       "       [0.6027735 ],\n",
       "       [0.3444481 ],\n",
       "       [0.51521623],\n",
       "       [0.43417546],\n",
       "       [0.45228508],\n",
       "       [0.6671277 ],\n",
       "       [0.18809526],\n",
       "       [0.6138375 ],\n",
       "       [0.33402848],\n",
       "       [0.70992976],\n",
       "       [0.21350576],\n",
       "       [0.5231716 ],\n",
       "       [0.3443521 ],\n",
       "       [0.42871135],\n",
       "       [0.61181027],\n",
       "       [0.6149151 ],\n",
       "       [0.18086919],\n",
       "       [0.54179657],\n",
       "       [0.7496856 ],\n",
       "       [0.46129322],\n",
       "       [0.66952735],\n",
       "       [0.68682015],\n",
       "       [0.13520601],\n",
       "       [0.5182222 ],\n",
       "       [0.2740482 ],\n",
       "       [0.1764564 ],\n",
       "       [0.6219343 ],\n",
       "       [0.41155407],\n",
       "       [0.6049559 ],\n",
       "       [0.41081166],\n",
       "       [0.5863514 ],\n",
       "       [0.282193  ],\n",
       "       [0.35526383],\n",
       "       [0.4772228 ],\n",
       "       [0.41234857],\n",
       "       [0.45571294],\n",
       "       [0.5645741 ],\n",
       "       [0.56897   ],\n",
       "       [0.6312101 ],\n",
       "       [0.5898861 ],\n",
       "       [0.15349929],\n",
       "       [0.19712228],\n",
       "       [0.42979455],\n",
       "       [0.7278375 ],\n",
       "       [0.3320823 ],\n",
       "       [0.6327752 ],\n",
       "       [0.18334669],\n",
       "       [0.42057204],\n",
       "       [0.3947882 ],\n",
       "       [0.4300564 ],\n",
       "       [0.58254373],\n",
       "       [0.14910951],\n",
       "       [0.68364346],\n",
       "       [0.340597  ],\n",
       "       [0.15205179],\n",
       "       [0.17168419],\n",
       "       [0.7375173 ],\n",
       "       [0.6861653 ],\n",
       "       [0.622273  ],\n",
       "       [0.26637456],\n",
       "       [0.18932942],\n",
       "       [0.71036845],\n",
       "       [0.7469406 ],\n",
       "       [0.52613395],\n",
       "       [0.68858796],\n",
       "       [0.46342307],\n",
       "       [0.56843394],\n",
       "       [0.23082437],\n",
       "       [0.22894037],\n",
       "       [0.50474083],\n",
       "       [0.6131854 ],\n",
       "       [0.24812198],\n",
       "       [0.20752285],\n",
       "       [0.7699626 ],\n",
       "       [0.3147795 ],\n",
       "       [0.22801104],\n",
       "       [0.19809188],\n",
       "       [0.53836787],\n",
       "       [0.51244617],\n",
       "       [0.48523164],\n",
       "       [0.74143696],\n",
       "       [0.24902481],\n",
       "       [0.32988304],\n",
       "       [0.21077868],\n",
       "       [0.22776234],\n",
       "       [0.1589036 ],\n",
       "       [0.4425466 ],\n",
       "       [0.49129856],\n",
       "       [0.4538361 ],\n",
       "       [0.2425447 ],\n",
       "       [0.64523304],\n",
       "       [0.46202725],\n",
       "       [0.19751707],\n",
       "       [0.47870934],\n",
       "       [0.3037101 ],\n",
       "       [0.74565333],\n",
       "       [0.5910344 ],\n",
       "       [0.7077514 ],\n",
       "       [0.55153537],\n",
       "       [0.2845146 ],\n",
       "       [0.45510602],\n",
       "       [0.14520533],\n",
       "       [0.39877713],\n",
       "       [0.56488943],\n",
       "       [0.30646676],\n",
       "       [0.60044014],\n",
       "       [0.44195372],\n",
       "       [0.6696992 ],\n",
       "       [0.69390494],\n",
       "       [0.18711305],\n",
       "       [0.83504456],\n",
       "       [0.70217675],\n",
       "       [0.60586   ],\n",
       "       [0.46346018],\n",
       "       [0.71362287],\n",
       "       [0.60734725],\n",
       "       [0.16455968],\n",
       "       [0.4310068 ],\n",
       "       [0.60374045],\n",
       "       [0.35007375],\n",
       "       [0.38308418],\n",
       "       [0.62946874],\n",
       "       [0.6728566 ],\n",
       "       [0.6463936 ],\n",
       "       [0.4850794 ],\n",
       "       [0.21102163],\n",
       "       [0.3292392 ],\n",
       "       [0.66060317],\n",
       "       [0.71568066],\n",
       "       [0.14792173],\n",
       "       [0.8369442 ],\n",
       "       [0.36503983],\n",
       "       [0.61218464],\n",
       "       [0.5694965 ],\n",
       "       [0.460659  ],\n",
       "       [0.54149026],\n",
       "       [0.17392685],\n",
       "       [0.45200604],\n",
       "       [0.5258965 ],\n",
       "       [0.61632967],\n",
       "       [0.5238539 ],\n",
       "       [0.27796456],\n",
       "       [0.17347848],\n",
       "       [0.5730889 ],\n",
       "       [0.3028487 ],\n",
       "       [0.44502464],\n",
       "       [0.3839732 ],\n",
       "       [0.7427455 ],\n",
       "       [0.4998774 ],\n",
       "       [0.6703562 ],\n",
       "       [0.28229865],\n",
       "       [0.15754217],\n",
       "       [0.5918523 ],\n",
       "       [0.5885321 ],\n",
       "       [0.6919547 ],\n",
       "       [0.55744034],\n",
       "       [0.67807907],\n",
       "       [0.41848344],\n",
       "       [0.19301023],\n",
       "       [0.26899418],\n",
       "       [0.6099719 ],\n",
       "       [0.31287232],\n",
       "       [0.19448042],\n",
       "       [0.24120595],\n",
       "       [0.53946686],\n",
       "       [0.322065  ],\n",
       "       [0.2814371 ],\n",
       "       [0.4524032 ],\n",
       "       [0.5829656 ],\n",
       "       [0.6247329 ],\n",
       "       [0.33242017],\n",
       "       [0.77874714],\n",
       "       [0.4802725 ],\n",
       "       [0.40047702],\n",
       "       [0.44909227],\n",
       "       [0.31552297],\n",
       "       [0.34720176],\n",
       "       [0.6338402 ],\n",
       "       [0.6388738 ],\n",
       "       [0.6967074 ],\n",
       "       [0.16851225],\n",
       "       [0.5223154 ],\n",
       "       [0.6574787 ],\n",
       "       [0.2804873 ],\n",
       "       [0.62972546],\n",
       "       [0.79387695],\n",
       "       [0.72664624],\n",
       "       [0.56927395],\n",
       "       [0.59142023],\n",
       "       [0.5683259 ],\n",
       "       [0.61802715],\n",
       "       [0.72583026],\n",
       "       [0.6880806 ],\n",
       "       [0.589265  ],\n",
       "       [0.64042634],\n",
       "       [0.37781423],\n",
       "       [0.33861214],\n",
       "       [0.6939133 ],\n",
       "       [0.3579192 ],\n",
       "       [0.6562551 ],\n",
       "       [0.5809318 ],\n",
       "       [0.59694755],\n",
       "       [0.7502131 ],\n",
       "       [0.33703333],\n",
       "       [0.54000354],\n",
       "       [0.32035196],\n",
       "       [0.5774674 ],\n",
       "       [0.44953644],\n",
       "       [0.40246534],\n",
       "       [0.44526124],\n",
       "       [0.16055177],\n",
       "       [0.4350062 ],\n",
       "       [0.6899401 ],\n",
       "       [0.33633044],\n",
       "       [0.17447017],\n",
       "       [0.47910863],\n",
       "       [0.3053735 ],\n",
       "       [0.30626422],\n",
       "       [0.1810227 ],\n",
       "       [0.5904206 ],\n",
       "       [0.41824812],\n",
       "       [0.38363788],\n",
       "       [0.3557502 ],\n",
       "       [0.47763205],\n",
       "       [0.33584803],\n",
       "       [0.7166324 ],\n",
       "       [0.56713617],\n",
       "       [0.3212217 ],\n",
       "       [0.603173  ],\n",
       "       [0.4003197 ],\n",
       "       [0.5522635 ],\n",
       "       [0.5390681 ],\n",
       "       [0.49150673],\n",
       "       [0.6399298 ],\n",
       "       [0.23755485],\n",
       "       [0.16208711],\n",
       "       [0.58179456],\n",
       "       [0.13826364],\n",
       "       [0.18218769],\n",
       "       [0.20646802],\n",
       "       [0.668041  ],\n",
       "       [0.17959212],\n",
       "       [0.3234528 ],\n",
       "       [0.54444164],\n",
       "       [0.18046619],\n",
       "       [0.22786593],\n",
       "       [0.3099849 ],\n",
       "       [0.57884073],\n",
       "       [0.19112052],\n",
       "       [0.65099096],\n",
       "       [0.25900522],\n",
       "       [0.64537126],\n",
       "       [0.44432938],\n",
       "       [0.18906403],\n",
       "       [0.3470462 ],\n",
       "       [0.21385369],\n",
       "       [0.7165842 ],\n",
       "       [0.6932408 ],\n",
       "       [0.45025176],\n",
       "       [0.56312007],\n",
       "       [0.16768275],\n",
       "       [0.61764777],\n",
       "       [0.48652953],\n",
       "       [0.3669511 ],\n",
       "       [0.3006267 ],\n",
       "       [0.4297308 ],\n",
       "       [0.5519608 ],\n",
       "       [0.60702026],\n",
       "       [0.74589217],\n",
       "       [0.16289036],\n",
       "       [0.2525052 ],\n",
       "       [0.22471617],\n",
       "       [0.77685827],\n",
       "       [0.50054216],\n",
       "       [0.46791452],\n",
       "       [0.5761462 ],\n",
       "       [0.18890539],\n",
       "       [0.5534626 ],\n",
       "       [0.49430233],\n",
       "       [0.46596733],\n",
       "       [0.5565727 ],\n",
       "       [0.6880707 ],\n",
       "       [0.5816069 ],\n",
       "       [0.27055803],\n",
       "       [0.2146287 ],\n",
       "       [0.66025186],\n",
       "       [0.7026153 ],\n",
       "       [0.5237819 ],\n",
       "       [0.2094684 ],\n",
       "       [0.5414917 ],\n",
       "       [0.63169396],\n",
       "       [0.626399  ],\n",
       "       [0.4132907 ],\n",
       "       [0.4249919 ],\n",
       "       [0.21775922],\n",
       "       [0.5260371 ],\n",
       "       [0.35373116],\n",
       "       [0.6143441 ],\n",
       "       [0.4460809 ],\n",
       "       [0.5990842 ],\n",
       "       [0.4149903 ],\n",
       "       [0.53608406],\n",
       "       [0.3299666 ],\n",
       "       [0.20858225],\n",
       "       [0.13057779],\n",
       "       [0.44438213],\n",
       "       [0.19358468],\n",
       "       [0.6331965 ],\n",
       "       [0.23918673],\n",
       "       [0.31639457],\n",
       "       [0.47981575],\n",
       "       [0.73034984],\n",
       "       [0.16294606],\n",
       "       [0.44918653],\n",
       "       [0.29471684],\n",
       "       [0.7548538 ],\n",
       "       [0.18878192],\n",
       "       [0.6050768 ],\n",
       "       [0.15686668],\n",
       "       [0.5238577 ],\n",
       "       [0.6720485 ],\n",
       "       [0.37538287],\n",
       "       [0.49149203],\n",
       "       [0.22780053],\n",
       "       [0.64295775],\n",
       "       [0.77483004],\n",
       "       [0.2123751 ],\n",
       "       [0.69350094],\n",
       "       [0.7555031 ],\n",
       "       [0.58321404],\n",
       "       [0.5322732 ],\n",
       "       [0.2009832 ],\n",
       "       [0.54360056],\n",
       "       [0.5244237 ],\n",
       "       [0.73726857],\n",
       "       [0.55156255],\n",
       "       [0.28697145],\n",
       "       [0.5857583 ],\n",
       "       [0.7284076 ],\n",
       "       [0.7197336 ],\n",
       "       [0.5653664 ],\n",
       "       [0.6370817 ],\n",
       "       [0.65295005],\n",
       "       [0.15943475],\n",
       "       [0.63805854],\n",
       "       [0.1623294 ],\n",
       "       [0.21225266],\n",
       "       [0.1285759 ],\n",
       "       [0.31429642],\n",
       "       [0.20109618],\n",
       "       [0.5251123 ],\n",
       "       [0.5091553 ],\n",
       "       [0.45336443],\n",
       "       [0.58214724],\n",
       "       [0.4999078 ],\n",
       "       [0.16000292],\n",
       "       [0.6957789 ],\n",
       "       [0.5363855 ],\n",
       "       [0.5795689 ],\n",
       "       [0.5399288 ],\n",
       "       [0.6399229 ],\n",
       "       [0.62003815],\n",
       "       [0.29977024],\n",
       "       [0.19218934],\n",
       "       [0.55226266],\n",
       "       [0.62411755],\n",
       "       [0.17731093],\n",
       "       [0.15069954],\n",
       "       [0.36255667],\n",
       "       [0.4771022 ],\n",
       "       [0.6426438 ],\n",
       "       [0.47707468],\n",
       "       [0.561517  ],\n",
       "       [0.18358561],\n",
       "       [0.67136115],\n",
       "       [0.42640427],\n",
       "       [0.52656114],\n",
       "       [0.6202986 ],\n",
       "       [0.47399968],\n",
       "       [0.5376215 ],\n",
       "       [0.550171  ],\n",
       "       [0.32036197],\n",
       "       [0.32880312],\n",
       "       [0.70836747],\n",
       "       [0.36678165],\n",
       "       [0.67462105],\n",
       "       [0.37905252],\n",
       "       [0.3099411 ],\n",
       "       [0.42456603],\n",
       "       [0.19910492],\n",
       "       [0.5338459 ],\n",
       "       [0.5891941 ],\n",
       "       [0.78654176],\n",
       "       [0.61867   ],\n",
       "       [0.24222378],\n",
       "       [0.24180126],\n",
       "       [0.2560454 ],\n",
       "       [0.31643057],\n",
       "       [0.24359111],\n",
       "       [0.3585114 ],\n",
       "       [0.632972  ],\n",
       "       [0.5567491 ],\n",
       "       [0.55581355],\n",
       "       [0.26074922],\n",
       "       [0.21708286],\n",
       "       [0.63506734],\n",
       "       [0.33365902],\n",
       "       [0.25767872],\n",
       "       [0.5307861 ],\n",
       "       [0.18587932],\n",
       "       [0.34034815],\n",
       "       [0.55687904],\n",
       "       [0.34259188],\n",
       "       [0.35661036],\n",
       "       [0.64078236],\n",
       "       [0.48971924],\n",
       "       [0.68318146],\n",
       "       [0.18682006],\n",
       "       [0.7802082 ],\n",
       "       [0.48902255],\n",
       "       [0.36666825],\n",
       "       [0.23397166],\n",
       "       [0.73844945],\n",
       "       [0.5769135 ],\n",
       "       [0.45376787],\n",
       "       [0.7064027 ],\n",
       "       [0.548069  ],\n",
       "       [0.5496571 ],\n",
       "       [0.41015345],\n",
       "       [0.161386  ],\n",
       "       [0.54956484],\n",
       "       [0.5377743 ],\n",
       "       [0.46982038],\n",
       "       [0.58516407],\n",
       "       [0.24546078],\n",
       "       [0.6822569 ],\n",
       "       [0.59909296],\n",
       "       [0.56028724],\n",
       "       [0.16335249],\n",
       "       [0.18274735],\n",
       "       [0.21174067],\n",
       "       [0.5912677 ],\n",
       "       [0.6020249 ],\n",
       "       [0.57819915],\n",
       "       [0.25377306],\n",
       "       [0.44660914],\n",
       "       [0.24167188],\n",
       "       [0.33562267],\n",
       "       [0.60786057],\n",
       "       [0.18914273],\n",
       "       [0.71207786],\n",
       "       [0.66600764],\n",
       "       [0.4064476 ],\n",
       "       [0.37452212],\n",
       "       [0.18929219],\n",
       "       [0.15788275],\n",
       "       [0.560129  ],\n",
       "       [0.65474963],\n",
       "       [0.6324826 ],\n",
       "       [0.4170925 ],\n",
       "       [0.4240395 ],\n",
       "       [0.57215285],\n",
       "       [0.3121779 ],\n",
       "       [0.71502817],\n",
       "       [0.54314196],\n",
       "       [0.31095606],\n",
       "       [0.21237044],\n",
       "       [0.23137379],\n",
       "       [0.46708137],\n",
       "       [0.6251203 ],\n",
       "       [0.17033154],\n",
       "       [0.45961872],\n",
       "       [0.41896376],\n",
       "       [0.59855473],\n",
       "       [0.24577965],\n",
       "       [0.26792562],\n",
       "       [0.3586874 ],\n",
       "       [0.7413666 ],\n",
       "       [0.41609833],\n",
       "       [0.3808956 ],\n",
       "       [0.6654493 ],\n",
       "       [0.6334373 ],\n",
       "       [0.2349902 ],\n",
       "       [0.31568155],\n",
       "       [0.6621568 ],\n",
       "       [0.4931007 ],\n",
       "       [0.62201   ],\n",
       "       [0.43786636],\n",
       "       [0.70931137],\n",
       "       [0.64778256],\n",
       "       [0.14029798],\n",
       "       [0.4415246 ],\n",
       "       [0.66147363],\n",
       "       [0.2977373 ],\n",
       "       [0.61347073],\n",
       "       [0.6305494 ],\n",
       "       [0.63637495],\n",
       "       [0.5393615 ],\n",
       "       [0.72083473],\n",
       "       [0.33719343],\n",
       "       [0.35991535],\n",
       "       [0.45285684],\n",
       "       [0.29279706],\n",
       "       [0.75291294],\n",
       "       [0.1548729 ],\n",
       "       [0.30986002],\n",
       "       [0.6425953 ],\n",
       "       [0.2844271 ],\n",
       "       [0.6770553 ],\n",
       "       [0.696822  ],\n",
       "       [0.33346593],\n",
       "       [0.3760205 ],\n",
       "       [0.21839985],\n",
       "       [0.78264534],\n",
       "       [0.30089796],\n",
       "       [0.55082005],\n",
       "       [0.66405314],\n",
       "       [0.2815172 ],\n",
       "       [0.7863754 ],\n",
       "       [0.4704041 ],\n",
       "       [0.49822083],\n",
       "       [0.5498952 ],\n",
       "       [0.5852494 ],\n",
       "       [0.24460061],\n",
       "       [0.5363278 ],\n",
       "       [0.56134486],\n",
       "       [0.27991125],\n",
       "       [0.40828365],\n",
       "       [0.31374922],\n",
       "       [0.23648511],\n",
       "       [0.26808262],\n",
       "       [0.5819901 ],\n",
       "       [0.155467  ],\n",
       "       [0.38967875],\n",
       "       [0.5576618 ],\n",
       "       [0.35449558],\n",
       "       [0.7278566 ],\n",
       "       [0.23311573],\n",
       "       [0.39750582],\n",
       "       [0.1370521 ],\n",
       "       [0.57973623],\n",
       "       [0.60895115],\n",
       "       [0.49523342],\n",
       "       [0.6606033 ],\n",
       "       [0.2844693 ],\n",
       "       [0.67570084],\n",
       "       [0.7521184 ],\n",
       "       [0.297905  ],\n",
       "       [0.38602775],\n",
       "       [0.7488425 ],\n",
       "       [0.36429676],\n",
       "       [0.49589077],\n",
       "       [0.41813618],\n",
       "       [0.6989545 ],\n",
       "       [0.45708343],\n",
       "       [0.7930543 ],\n",
       "       [0.64905226],\n",
       "       [0.57895595],\n",
       "       [0.16504215],\n",
       "       [0.3487372 ],\n",
       "       [0.63422805],\n",
       "       [0.26301232],\n",
       "       [0.14751263],\n",
       "       [0.6761107 ],\n",
       "       [0.49975598],\n",
       "       [0.2762375 ],\n",
       "       [0.24000792],\n",
       "       [0.6977316 ],\n",
       "       [0.2085296 ],\n",
       "       [0.4168223 ],\n",
       "       [0.7585055 ],\n",
       "       [0.5372589 ],\n",
       "       [0.72862214],\n",
       "       [0.34364104],\n",
       "       [0.324689  ],\n",
       "       [0.20849477],\n",
       "       [0.53618896],\n",
       "       [0.32830602],\n",
       "       [0.3720897 ],\n",
       "       [0.34318388],\n",
       "       [0.53907895],\n",
       "       [0.62159693],\n",
       "       [0.18180975],\n",
       "       [0.45085466],\n",
       "       [0.7488085 ],\n",
       "       [0.34491304],\n",
       "       [0.3506572 ],\n",
       "       [0.4337846 ],\n",
       "       [0.81981325],\n",
       "       [0.51490533],\n",
       "       [0.41909015],\n",
       "       [0.6325809 ],\n",
       "       [0.3282336 ],\n",
       "       [0.43401197],\n",
       "       [0.33110857],\n",
       "       [0.5024114 ],\n",
       "       [0.41381428],\n",
       "       [0.37545303],\n",
       "       [0.3281238 ],\n",
       "       [0.44426852],\n",
       "       [0.147189  ],\n",
       "       [0.5115265 ],\n",
       "       [0.5096923 ],\n",
       "       [0.5866519 ],\n",
       "       [0.5367687 ],\n",
       "       [0.50062865],\n",
       "       [0.61240125],\n",
       "       [0.4147231 ],\n",
       "       [0.4167106 ],\n",
       "       [0.6954785 ],\n",
       "       [0.52712524],\n",
       "       [0.6082909 ],\n",
       "       [0.2195462 ],\n",
       "       [0.19262317],\n",
       "       [0.28270614],\n",
       "       [0.63288677],\n",
       "       [0.4287675 ],\n",
       "       [0.25705767],\n",
       "       [0.6658831 ],\n",
       "       [0.59382176],\n",
       "       [0.34638524],\n",
       "       [0.63425314],\n",
       "       [0.39597937],\n",
       "       [0.3506446 ],\n",
       "       [0.3367137 ],\n",
       "       [0.4348506 ],\n",
       "       [0.25419235],\n",
       "       [0.55891734],\n",
       "       [0.31033593],\n",
       "       [0.19672981]], dtype=float32)"
      ]
     },
     "execution_count": 46,
     "metadata": {},
     "output_type": "execute_result"
    }
   ],
   "source": [
    "# Making the predictions for training\n",
    "\n",
    "# Predicting the Training set results\n",
    "y_pred_train = m.predict(x_train) \n",
    "y_pred_train"
   ]
  },
  {
   "cell_type": "code",
   "execution_count": 47,
   "metadata": {},
   "outputs": [
    {
     "data": {
      "text/plain": [
       "(768, 1)"
      ]
     },
     "execution_count": 47,
     "metadata": {},
     "output_type": "execute_result"
    }
   ],
   "source": [
    "y_pred_train.shape "
   ]
  },
  {
   "cell_type": "code",
   "execution_count": 48,
   "metadata": {},
   "outputs": [
    {
     "name": "stdout",
     "output_type": "stream",
     "text": [
      "Training Mean Squared error (MSE): 0.007574274657343327\n",
      "Training Root mean squared error (RMSE): 0.08703030884320316\n",
      "Training Mean absolute error (MAE): 0.06937447510956098\n",
      "R2 Score Train: 0.8475180433395306\n"
     ]
    }
   ],
   "source": [
    "# Model performance # Training error\n",
    "\n",
    "# Measure MSE error  \n",
    "mse_train = metrics.mean_squared_error(y_train, y_pred_train)\n",
    "print(\"Training Mean Squared error (MSE): {}\".format(mse_train))\n",
    "\n",
    "# Measure RMSE error \n",
    "rmse_train = np.sqrt(metrics.mean_squared_error(y_train, y_pred_train))\n",
    "print(\"Training Root mean squared error (RMSE): {}\".format(rmse_train))\n",
    "\n",
    "# Measure MAE error\n",
    "mae_train = metrics.mean_absolute_error(y_train, y_pred_train)\n",
    "print(\"Training Mean absolute error (MAE): {}\".format(mae_train))\n",
    "\n",
    "# Regression score for training\n",
    "y_pred_train_flat = y_pred_train.flatten()\n",
    "y_train_flat = y_train.flatten()\n",
    "r2_score_train = metrics.r2_score(y_train_flat, y_pred_train_flat)\n",
    "print(\"R2 Score Train: {}\".format(r2_score_train))"
   ]
  },
  {
   "cell_type": "code",
   "execution_count": 49,
   "metadata": {},
   "outputs": [],
   "source": [
    "####################################### Evaluating Model #######################################"
   ]
  },
  {
   "cell_type": "code",
   "execution_count": 50,
   "metadata": {},
   "outputs": [
    {
     "name": "stdout",
     "output_type": "stream",
     "text": [
      "CV scores (train): [-0.01156145 -0.01357045 -0.01283029]\n",
      "Mean CV score (train): -0.0126540647 (0.0008295809)\n"
     ]
    }
   ],
   "source": [
    "# # Cross-validation # Training\n",
    "\n",
    "estimator = KerasRegressor(build_fn=baseline_model, epochs=200, batch_size=40, verbose=0)\n",
    "kfold = KFold(n_splits=3)\n",
    "results = cross_val_score(estimator, x_train, y_train, cv=kfold, scoring='neg_mean_squared_error')\n",
    "print(\"CV scores (train): {}\".format(results))\n",
    "print(\"Mean CV score (train): %.10f (%.10f)\" % (results.mean(), results.std()))"
   ]
  },
  {
   "cell_type": "code",
   "execution_count": 51,
   "metadata": {},
   "outputs": [
    {
     "name": "stdout",
     "output_type": "stream",
     "text": [
      "CV scores (test): [-0.02337775 -0.01634929 -0.01393452]\n",
      "Mean CV score (test): -0.0178871869 (0.0040056228)\n"
     ]
    }
   ],
   "source": [
    "# # Cross-validation # Testing\n",
    "\n",
    "estimator = KerasRegressor(build_fn=baseline_model, epochs=200, batch_size=40, verbose=0)\n",
    "kfold = KFold(n_splits=3)\n",
    "results = cross_val_score(estimator, x_test, y_test, cv=kfold, scoring='neg_mean_squared_error')\n",
    "print(\"CV scores (test): {}\".format(results))\n",
    "print(\"Mean CV score (test): %.10f (%.10f)\" % (results.mean(), results.std()))"
   ]
  },
  {
   "cell_type": "code",
   "execution_count": 52,
   "metadata": {},
   "outputs": [],
   "source": [
    "# Saving results in csv file\n",
    "\n",
    "no_epoch = len(loss)\n",
    "\n",
    "results = pd.DataFrame([[mse_train, mse_test, mae_train, mae_test, no_epoch]],\n",
    "columns=['MSE Train', 'MSE Test', 'MAE Train', 'MAE Test', 'No_of_Epochs'])\n",
    "# results.to_csv('results_SQM_DNN_MRAM_MFCC_LSF.csv')"
   ]
  },
  {
   "cell_type": "code",
   "execution_count": 53,
   "metadata": {},
   "outputs": [
    {
     "data": {
      "text/html": [
       "<div>\n",
       "<style scoped>\n",
       "    .dataframe tbody tr th:only-of-type {\n",
       "        vertical-align: middle;\n",
       "    }\n",
       "\n",
       "    .dataframe tbody tr th {\n",
       "        vertical-align: top;\n",
       "    }\n",
       "\n",
       "    .dataframe thead th {\n",
       "        text-align: right;\n",
       "    }\n",
       "</style>\n",
       "<table border=\"1\" class=\"dataframe\">\n",
       "  <thead>\n",
       "    <tr style=\"text-align: right;\">\n",
       "      <th></th>\n",
       "      <th>MSE Train</th>\n",
       "      <th>MSE Test</th>\n",
       "      <th>MAE Train</th>\n",
       "      <th>MAE Test</th>\n",
       "      <th>No_of_Epochs</th>\n",
       "    </tr>\n",
       "  </thead>\n",
       "  <tbody>\n",
       "    <tr>\n",
       "      <th>0</th>\n",
       "      <td>0.007574</td>\n",
       "      <td>0.012051</td>\n",
       "      <td>0.069374</td>\n",
       "      <td>0.085759</td>\n",
       "      <td>37</td>\n",
       "    </tr>\n",
       "  </tbody>\n",
       "</table>\n",
       "</div>"
      ],
      "text/plain": [
       "   MSE Train  MSE Test  MAE Train  MAE Test  No_of_Epochs\n",
       "0   0.007574  0.012051   0.069374  0.085759            37"
      ]
     },
     "execution_count": 53,
     "metadata": {},
     "output_type": "execute_result"
    }
   ],
   "source": [
    "results "
   ]
  },
  {
   "cell_type": "code",
   "execution_count": 54,
   "metadata": {},
   "outputs": [],
   "source": [
    "# m.save('SQM_DNN_MRAM.h5')"
   ]
  },
  {
   "cell_type": "code",
   "execution_count": 55,
   "metadata": {},
   "outputs": [
    {
     "name": "stdout",
     "output_type": "stream",
     "text": [
      "3.8.5\n"
     ]
    }
   ],
   "source": [
    "from platform import python_version\n",
    "\n",
    "print(python_version())"
   ]
  },
  {
   "cell_type": "markdown",
   "metadata": {},
   "source": [
    "### Correlation between predicted objective MOS using DNN and subjective MOS for test speech samples."
   ]
  },
  {
   "cell_type": "code",
   "execution_count": 56,
   "metadata": {},
   "outputs": [
    {
     "data": {
      "text/plain": [
       "array([[0.6664948 ],\n",
       "       [0.6854506 ],\n",
       "       [0.7291734 ],\n",
       "       [0.23704782],\n",
       "       [0.30131763],\n",
       "       [0.6820274 ],\n",
       "       [0.7629975 ],\n",
       "       [0.35438934],\n",
       "       [0.63399386],\n",
       "       [0.34714073],\n",
       "       [0.43798995],\n",
       "       [0.5797826 ],\n",
       "       [0.57241976],\n",
       "       [0.49748474],\n",
       "       [0.46246007],\n",
       "       [0.52487355],\n",
       "       [0.17459683],\n",
       "       [0.3111871 ],\n",
       "       [0.5254673 ],\n",
       "       [0.61921763],\n",
       "       [0.17668584],\n",
       "       [0.3575507 ],\n",
       "       [0.4896452 ],\n",
       "       [0.44948682],\n",
       "       [0.69966245],\n",
       "       [0.36425406],\n",
       "       [0.6106806 ],\n",
       "       [0.37001508],\n",
       "       [0.58810115],\n",
       "       [0.47672328],\n",
       "       [0.8193901 ],\n",
       "       [0.6391357 ],\n",
       "       [0.34567624],\n",
       "       [0.7110809 ],\n",
       "       [0.81547624],\n",
       "       [0.38607907],\n",
       "       [0.45803088],\n",
       "       [0.47510168],\n",
       "       [0.51144916],\n",
       "       [0.37018287],\n",
       "       [0.57424164],\n",
       "       [0.20832497],\n",
       "       [0.33031046],\n",
       "       [0.22051819],\n",
       "       [0.6971075 ],\n",
       "       [0.70593196],\n",
       "       [0.45041722],\n",
       "       [0.5753386 ],\n",
       "       [0.6637457 ],\n",
       "       [0.595274  ],\n",
       "       [0.23632312],\n",
       "       [0.19861303],\n",
       "       [0.51081294],\n",
       "       [0.27356228],\n",
       "       [0.20254001],\n",
       "       [0.3887904 ],\n",
       "       [0.3212583 ],\n",
       "       [0.32624555],\n",
       "       [0.77359265],\n",
       "       [0.16096927],\n",
       "       [0.24429858],\n",
       "       [0.57343227],\n",
       "       [0.14781448],\n",
       "       [0.5706972 ],\n",
       "       [0.31696144],\n",
       "       [0.41892174],\n",
       "       [0.614484  ],\n",
       "       [0.23328944],\n",
       "       [0.6664793 ],\n",
       "       [0.56876296],\n",
       "       [0.25452828],\n",
       "       [0.5091108 ],\n",
       "       [0.1649336 ],\n",
       "       [0.567186  ],\n",
       "       [0.68780625],\n",
       "       [0.27068895],\n",
       "       [0.45705175],\n",
       "       [0.22545408],\n",
       "       [0.5337153 ],\n",
       "       [0.48207796],\n",
       "       [0.32038885],\n",
       "       [0.22825636],\n",
       "       [0.34771478],\n",
       "       [0.17466776],\n",
       "       [0.5652649 ],\n",
       "       [0.6123239 ],\n",
       "       [0.68769187],\n",
       "       [0.21585974],\n",
       "       [0.3401346 ],\n",
       "       [0.20312029],\n",
       "       [0.62374425],\n",
       "       [0.47294033],\n",
       "       [0.5710701 ],\n",
       "       [0.6396136 ],\n",
       "       [0.52687156],\n",
       "       [0.48822084],\n",
       "       [0.79296744],\n",
       "       [0.4492467 ],\n",
       "       [0.19701353],\n",
       "       [0.13869981],\n",
       "       [0.25698024],\n",
       "       [0.53148586],\n",
       "       [0.4833882 ],\n",
       "       [0.5299727 ],\n",
       "       [0.35272777],\n",
       "       [0.32644305],\n",
       "       [0.39965734],\n",
       "       [0.692465  ],\n",
       "       [0.18768364],\n",
       "       [0.4210856 ],\n",
       "       [0.20604138],\n",
       "       [0.66075945],\n",
       "       [0.65671414],\n",
       "       [0.6546992 ],\n",
       "       [0.36027402],\n",
       "       [0.44972488],\n",
       "       [0.6945036 ],\n",
       "       [0.16113104],\n",
       "       [0.3055237 ],\n",
       "       [0.40512267],\n",
       "       [0.18922237],\n",
       "       [0.32372448],\n",
       "       [0.2754665 ],\n",
       "       [0.3584224 ],\n",
       "       [0.79256475],\n",
       "       [0.66260314],\n",
       "       [0.23129328],\n",
       "       [0.29160416],\n",
       "       [0.2151752 ],\n",
       "       [0.30792204],\n",
       "       [0.6887343 ],\n",
       "       [0.7438585 ],\n",
       "       [0.6329399 ],\n",
       "       [0.6117276 ],\n",
       "       [0.6560084 ],\n",
       "       [0.44075808],\n",
       "       [0.18893804],\n",
       "       [0.74373716],\n",
       "       [0.60263526],\n",
       "       [0.5414432 ],\n",
       "       [0.25338897],\n",
       "       [0.5280061 ],\n",
       "       [0.6137969 ],\n",
       "       [0.26020145],\n",
       "       [0.20075923],\n",
       "       [0.3234254 ],\n",
       "       [0.20677361],\n",
       "       [0.55762607],\n",
       "       [0.2538468 ],\n",
       "       [0.5584732 ],\n",
       "       [0.39409018],\n",
       "       [0.33409926],\n",
       "       [0.7471213 ],\n",
       "       [0.6287571 ],\n",
       "       [0.76656157],\n",
       "       [0.5564521 ],\n",
       "       [0.62951016],\n",
       "       [0.4692028 ],\n",
       "       [0.5659273 ],\n",
       "       [0.17273149],\n",
       "       [0.4614701 ],\n",
       "       [0.3586002 ],\n",
       "       [0.6978696 ],\n",
       "       [0.17746724],\n",
       "       [0.2202537 ],\n",
       "       [0.36627972],\n",
       "       [0.6591548 ],\n",
       "       [0.43546295],\n",
       "       [0.1913692 ],\n",
       "       [0.6444508 ],\n",
       "       [0.60074   ],\n",
       "       [0.28625318],\n",
       "       [0.18797913],\n",
       "       [0.55872625],\n",
       "       [0.32569718],\n",
       "       [0.5863742 ],\n",
       "       [0.1755522 ],\n",
       "       [0.717467  ],\n",
       "       [0.62896305],\n",
       "       [0.5464444 ],\n",
       "       [0.1717428 ],\n",
       "       [0.6590195 ],\n",
       "       [0.7798131 ],\n",
       "       [0.5121447 ],\n",
       "       [0.2866698 ],\n",
       "       [0.56613207],\n",
       "       [0.33078367],\n",
       "       [0.72972685],\n",
       "       [0.79617435],\n",
       "       [0.162102  ],\n",
       "       [0.35211286],\n",
       "       [0.22888497]], dtype=float32)"
      ]
     },
     "execution_count": 56,
     "metadata": {},
     "output_type": "execute_result"
    }
   ],
   "source": [
    "# Predicted objective MOS of test speech samples using DNN.\n",
    "\n",
    "y_obj_mos = y_pred # objective MOS of test speech samples\n",
    "y_obj_mos"
   ]
  },
  {
   "cell_type": "code",
   "execution_count": 57,
   "metadata": {},
   "outputs": [
    {
     "data": {
      "text/plain": [
       "192"
      ]
     },
     "execution_count": 57,
     "metadata": {},
     "output_type": "execute_result"
    }
   ],
   "source": [
    "len(y_obj_mos)"
   ]
  },
  {
   "cell_type": "code",
   "execution_count": 58,
   "metadata": {},
   "outputs": [
    {
     "data": {
      "text/plain": [
       "numpy.ndarray"
      ]
     },
     "execution_count": 58,
     "metadata": {},
     "output_type": "execute_result"
    }
   ],
   "source": [
    "type(y_obj_mos)"
   ]
  },
  {
   "cell_type": "code",
   "execution_count": 59,
   "metadata": {},
   "outputs": [
    {
     "data": {
      "text/plain": [
       "array([[0.66129032],\n",
       "       [0.66129032],\n",
       "       [0.70967742],\n",
       "       [0.0483871 ],\n",
       "       [0.46774194],\n",
       "       [0.75806452],\n",
       "       [0.88709677],\n",
       "       [0.29032258],\n",
       "       [0.61290323],\n",
       "       [0.35483871],\n",
       "       [0.5       ],\n",
       "       [0.62903226],\n",
       "       [0.67741935],\n",
       "       [0.62903226],\n",
       "       [0.46774194],\n",
       "       [0.40322581],\n",
       "       [0.20967742],\n",
       "       [0.35483871],\n",
       "       [0.48387097],\n",
       "       [0.61290323],\n",
       "       [0.33870968],\n",
       "       [0.61290323],\n",
       "       [0.51612903],\n",
       "       [0.46774194],\n",
       "       [0.80645161],\n",
       "       [0.5       ],\n",
       "       [0.67741935],\n",
       "       [0.37096774],\n",
       "       [0.70967742],\n",
       "       [0.72580645],\n",
       "       [0.82258065],\n",
       "       [0.67741935],\n",
       "       [0.43548387],\n",
       "       [0.75806452],\n",
       "       [0.83870968],\n",
       "       [0.46774194],\n",
       "       [0.5483871 ],\n",
       "       [0.48387097],\n",
       "       [0.72580645],\n",
       "       [0.46774194],\n",
       "       [0.70967742],\n",
       "       [0.08064516],\n",
       "       [0.33870968],\n",
       "       [0.17741935],\n",
       "       [0.80645161],\n",
       "       [0.67741935],\n",
       "       [0.58064516],\n",
       "       [0.91935484],\n",
       "       [0.85483871],\n",
       "       [0.64516129],\n",
       "       [0.35483871],\n",
       "       [0.33870968],\n",
       "       [0.59677419],\n",
       "       [0.37096774],\n",
       "       [0.12903226],\n",
       "       [0.32258065],\n",
       "       [0.29032258],\n",
       "       [0.4516129 ],\n",
       "       [0.96774194],\n",
       "       [0.16129032],\n",
       "       [0.0483871 ],\n",
       "       [0.5483871 ],\n",
       "       [0.19354839],\n",
       "       [0.61290323],\n",
       "       [0.29032258],\n",
       "       [0.41935484],\n",
       "       [0.53225806],\n",
       "       [0.22580645],\n",
       "       [0.72580645],\n",
       "       [0.61290323],\n",
       "       [0.03225806],\n",
       "       [0.67741935],\n",
       "       [0.30645161],\n",
       "       [0.72580645],\n",
       "       [0.74193548],\n",
       "       [0.09677419],\n",
       "       [0.62903226],\n",
       "       [0.12903226],\n",
       "       [0.70967742],\n",
       "       [0.30645161],\n",
       "       [0.24193548],\n",
       "       [0.22580645],\n",
       "       [0.4516129 ],\n",
       "       [0.22580645],\n",
       "       [0.5483871 ],\n",
       "       [0.75806452],\n",
       "       [0.72580645],\n",
       "       [0.17741935],\n",
       "       [0.5       ],\n",
       "       [0.25806452],\n",
       "       [0.61290323],\n",
       "       [0.4516129 ],\n",
       "       [0.9516129 ],\n",
       "       [0.64516129],\n",
       "       [0.51612903],\n",
       "       [0.40322581],\n",
       "       [0.77419355],\n",
       "       [0.4516129 ],\n",
       "       [0.11290323],\n",
       "       [0.25806452],\n",
       "       [0.38709677],\n",
       "       [0.56451613],\n",
       "       [0.58064516],\n",
       "       [0.75806452],\n",
       "       [0.29032258],\n",
       "       [0.33870968],\n",
       "       [0.33870968],\n",
       "       [0.79032258],\n",
       "       [0.40322581],\n",
       "       [0.5       ],\n",
       "       [0.32258065],\n",
       "       [0.82258065],\n",
       "       [0.82258065],\n",
       "       [0.77419355],\n",
       "       [0.5483871 ],\n",
       "       [0.46774194],\n",
       "       [0.77419355],\n",
       "       [0.14516129],\n",
       "       [0.48387097],\n",
       "       [0.33870968],\n",
       "       [0.17741935],\n",
       "       [0.4516129 ],\n",
       "       [0.20967742],\n",
       "       [0.38709677],\n",
       "       [0.75806452],\n",
       "       [0.72580645],\n",
       "       [0.16129032],\n",
       "       [0.22580645],\n",
       "       [0.11290323],\n",
       "       [0.29032258],\n",
       "       [0.67741935],\n",
       "       [0.61290323],\n",
       "       [0.74193548],\n",
       "       [0.77419355],\n",
       "       [0.90322581],\n",
       "       [0.32258065],\n",
       "       [0.24193548],\n",
       "       [0.64516129],\n",
       "       [0.64516129],\n",
       "       [0.33870968],\n",
       "       [0.0483871 ],\n",
       "       [0.59677419],\n",
       "       [0.82258065],\n",
       "       [0.20967742],\n",
       "       [0.09677419],\n",
       "       [0.33870968],\n",
       "       [0.35483871],\n",
       "       [0.51612903],\n",
       "       [0.22580645],\n",
       "       [0.58064516],\n",
       "       [0.40322581],\n",
       "       [0.32258065],\n",
       "       [0.69354839],\n",
       "       [0.77419355],\n",
       "       [0.83870968],\n",
       "       [0.46774194],\n",
       "       [0.5483871 ],\n",
       "       [0.5483871 ],\n",
       "       [0.69354839],\n",
       "       [0.20967742],\n",
       "       [0.53225806],\n",
       "       [0.33870968],\n",
       "       [0.61290323],\n",
       "       [0.19354839],\n",
       "       [0.27419355],\n",
       "       [0.38709677],\n",
       "       [0.79032258],\n",
       "       [0.62903226],\n",
       "       [0.24193548],\n",
       "       [0.70967742],\n",
       "       [0.56451613],\n",
       "       [0.08064516],\n",
       "       [0.17741935],\n",
       "       [0.69354839],\n",
       "       [0.51612903],\n",
       "       [0.67741935],\n",
       "       [0.09677419],\n",
       "       [0.64516129],\n",
       "       [0.62903226],\n",
       "       [0.58064516],\n",
       "       [0.24193548],\n",
       "       [0.56451613],\n",
       "       [0.70967742],\n",
       "       [0.5       ],\n",
       "       [0.38709677],\n",
       "       [0.61290323],\n",
       "       [0.38709677],\n",
       "       [0.69354839],\n",
       "       [0.77419355],\n",
       "       [0.20967742],\n",
       "       [0.4516129 ],\n",
       "       [0.25806452]])"
      ]
     },
     "execution_count": 59,
     "metadata": {},
     "output_type": "execute_result"
    }
   ],
   "source": [
    "# Subjective MOS of corresponding test speech samples.\n",
    "\n",
    "y_sub_mos = y_test # subjective MOS of test speech samples\n",
    "y_sub_mos"
   ]
  },
  {
   "cell_type": "code",
   "execution_count": 60,
   "metadata": {},
   "outputs": [
    {
     "data": {
      "text/plain": [
       "192"
      ]
     },
     "execution_count": 60,
     "metadata": {},
     "output_type": "execute_result"
    }
   ],
   "source": [
    "len(y_sub_mos)"
   ]
  },
  {
   "cell_type": "code",
   "execution_count": 61,
   "metadata": {},
   "outputs": [
    {
     "data": {
      "text/plain": [
       "numpy.ndarray"
      ]
     },
     "execution_count": 61,
     "metadata": {},
     "output_type": "execute_result"
    }
   ],
   "source": [
    "type(y_sub_mos)"
   ]
  },
  {
   "cell_type": "code",
   "execution_count": 62,
   "metadata": {},
   "outputs": [
    {
     "data": {
      "text/plain": [
       "0.8886451612505705"
      ]
     },
     "execution_count": 62,
     "metadata": {},
     "output_type": "execute_result"
    }
   ],
   "source": [
    "# Pearson correlation\n",
    "\n",
    "pear_corr, _ = stats.pearsonr(y_sub_mos.flatten(), y_obj_mos.flatten())\n",
    "pear_corr"
   ]
  },
  {
   "cell_type": "code",
   "execution_count": 63,
   "metadata": {},
   "outputs": [
    {
     "data": {
      "text/plain": [
       "0.8958842059678751"
      ]
     },
     "execution_count": 63,
     "metadata": {},
     "output_type": "execute_result"
    }
   ],
   "source": [
    "# Spearman correlation\n",
    "\n",
    "spearman_corr, _ = stats.spearmanr(y_sub_mos.flatten(), y_obj_mos.flatten())\n",
    "spearman_corr"
   ]
  },
  {
   "cell_type": "code",
   "execution_count": 64,
   "metadata": {},
   "outputs": [
    {
     "data": {
      "text/plain": [
       "0.10977835662617001"
      ]
     },
     "execution_count": 64,
     "metadata": {},
     "output_type": "execute_result"
    }
   ],
   "source": [
    "# RMSE (THIS RMSE IS TEST RMSE OF DNN MODEL)\n",
    "\n",
    "rmse_test = np.sqrt(metrics.mean_squared_error(y_sub_mos.flatten(), y_obj_mos.flatten()))\n",
    "rmse_test"
   ]
  },
  {
   "cell_type": "markdown",
   "metadata": {},
   "source": [
    "### Taking inverse to obtain actual objective MOS and subjective MOS before splitting data."
   ]
  },
  {
   "cell_type": "code",
   "execution_count": 65,
   "metadata": {},
   "outputs": [
    {
     "data": {
      "text/plain": [
       "array([[3.316134 ],\n",
       "       [3.374897 ],\n",
       "       [3.5104375],\n",
       "       [1.9848483],\n",
       "       [2.1840847],\n",
       "       [3.364285 ],\n",
       "       [3.615292 ],\n",
       "       [2.348607 ],\n",
       "       [3.215381 ],\n",
       "       [2.326136 ],\n",
       "       [2.6077688],\n",
       "       [3.047326 ],\n",
       "       [3.024501 ],\n",
       "       [2.7922027],\n",
       "       [2.6836262],\n",
       "       [2.8771079],\n",
       "       [1.7912501],\n",
       "       [2.21468  ],\n",
       "       [2.8789485],\n",
       "       [3.1695745],\n",
       "       [1.7977262],\n",
       "       [2.3584073],\n",
       "       [2.7679002],\n",
       "       [2.6434093],\n",
       "       [3.4189534],\n",
       "       [2.3791876],\n",
       "       [3.1431098],\n",
       "       [2.3970466],\n",
       "       [3.0731134],\n",
       "       [2.727842 ],\n",
       "       [3.7901094],\n",
       "       [3.2313206],\n",
       "       [2.3215964],\n",
       "       [3.4543507],\n",
       "       [3.7779765],\n",
       "       [2.446845 ],\n",
       "       [2.6698956],\n",
       "       [2.7228153],\n",
       "       [2.8354924],\n",
       "       [2.3975668],\n",
       "       [3.030149 ],\n",
       "       [1.8958073],\n",
       "       [2.2739623],\n",
       "       [1.9336064],\n",
       "       [3.4110334],\n",
       "       [3.438389 ],\n",
       "       [2.6462934],\n",
       "       [3.0335495],\n",
       "       [3.3076117],\n",
       "       [3.0953493],\n",
       "       [1.9826015],\n",
       "       [1.8657004],\n",
       "       [2.83352  ],\n",
       "       [2.098043 ],\n",
       "       [1.877874 ],\n",
       "       [2.4552503],\n",
       "       [2.2459006],\n",
       "       [2.2613611],\n",
       "       [3.6481373],\n",
       "       [1.7490048],\n",
       "       [2.0073254],\n",
       "       [3.0276399],\n",
       "       [1.7082249],\n",
       "       [3.0191612],\n",
       "       [2.2325804],\n",
       "       [2.5486574],\n",
       "       [3.1549006],\n",
       "       [1.9731973],\n",
       "       [3.3160858],\n",
       "       [3.013165 ],\n",
       "       [2.0390377],\n",
       "       [2.8282435],\n",
       "       [1.7612941],\n",
       "       [3.0082765],\n",
       "       [3.3821993],\n",
       "       [2.0891356],\n",
       "       [2.6668603],\n",
       "       [1.9489076],\n",
       "       [2.9045174],\n",
       "       [2.7444415],\n",
       "       [2.2432053],\n",
       "       [1.9575948],\n",
       "       [2.3279157],\n",
       "       [1.79147  ],\n",
       "       [3.002321 ],\n",
       "       [3.1482038],\n",
       "       [3.381845 ],\n",
       "       [1.9191653],\n",
       "       [2.3044171],\n",
       "       [1.8796728],\n",
       "       [3.183607 ],\n",
       "       [2.716115 ],\n",
       "       [3.020317 ],\n",
       "       [3.2328022],\n",
       "       [2.8833017],\n",
       "       [2.7634847],\n",
       "       [3.708199 ],\n",
       "       [2.6426647],\n",
       "       [1.860742 ],\n",
       "       [1.6799694],\n",
       "       [2.0466387],\n",
       "       [2.8976061],\n",
       "       [2.7485032],\n",
       "       [2.8929152],\n",
       "       [2.343456 ],\n",
       "       [2.2619734],\n",
       "       [2.4889379],\n",
       "       [3.3966417],\n",
       "       [1.8318192],\n",
       "       [2.5553653],\n",
       "       [1.8887283],\n",
       "       [3.2983541],\n",
       "       [3.285814 ],\n",
       "       [3.2795675],\n",
       "       [2.3668494],\n",
       "       [2.6441472],\n",
       "       [3.4029613],\n",
       "       [1.7495062],\n",
       "       [2.1971233],\n",
       "       [2.5058804],\n",
       "       [1.8365893],\n",
       "       [2.253546 ],\n",
       "       [2.103946 ],\n",
       "       [2.3611093],\n",
       "       [3.7069507],\n",
       "       [3.3040698],\n",
       "       [1.9670092],\n",
       "       [2.1539729],\n",
       "       [1.9170431],\n",
       "       [2.2045584],\n",
       "       [3.3850763],\n",
       "       [3.5559616],\n",
       "       [3.2121136],\n",
       "       [3.1463554],\n",
       "       [3.2836263],\n",
       "       [2.61635  ],\n",
       "       [1.835708 ],\n",
       "       [3.5555854],\n",
       "       [3.1181693],\n",
       "       [2.928474 ],\n",
       "       [2.0355058],\n",
       "       [2.8868186],\n",
       "       [3.1527705],\n",
       "       [2.0566244],\n",
       "       [1.8723536],\n",
       "       [2.2526188],\n",
       "       [1.8909982],\n",
       "       [2.9786408],\n",
       "       [2.036925 ],\n",
       "       [2.981267 ],\n",
       "       [2.4716794],\n",
       "       [2.2857077],\n",
       "       [3.566076 ],\n",
       "       [3.199147 ],\n",
       "       [3.6263409],\n",
       "       [2.9750013],\n",
       "       [3.2014813],\n",
       "       [2.7045286],\n",
       "       [3.0043747],\n",
       "       [1.7854676],\n",
       "       [2.6805573],\n",
       "       [2.3616605],\n",
       "       [3.413396 ],\n",
       "       [1.8001485],\n",
       "       [1.9327863],\n",
       "       [2.385467 ],\n",
       "       [3.2933798],\n",
       "       [2.599935 ],\n",
       "       [1.8432446],\n",
       "       [3.2477973],\n",
       "       [3.1122942],\n",
       "       [2.137385 ],\n",
       "       [1.8327353],\n",
       "       [2.9820514],\n",
       "       [2.2596612],\n",
       "       [3.06776  ],\n",
       "       [1.7942119],\n",
       "       [3.4741478],\n",
       "       [3.1997855],\n",
       "       [2.9439776],\n",
       "       [1.7824026],\n",
       "       [3.2929602],\n",
       "       [3.6674206],\n",
       "       [2.8376484],\n",
       "       [2.1386762],\n",
       "       [3.0050094],\n",
       "       [2.2754292],\n",
       "       [3.5121534],\n",
       "       [3.7181406],\n",
       "       [1.7525163],\n",
       "       [2.3415499],\n",
       "       [1.9595433]], dtype=float32)"
      ]
     },
     "execution_count": 65,
     "metadata": {},
     "output_type": "execute_result"
    }
   ],
   "source": [
    "# Taking inverse of min-max scalar to obtain y_obj_mos_inv (real objective MOS) before splitting\n",
    "\n",
    "y_obj_mos_inv = scaler.inverse_transform(y_pred)\n",
    "y_obj_mos_inv"
   ]
  },
  {
   "cell_type": "code",
   "execution_count": 66,
   "metadata": {},
   "outputs": [
    {
     "data": {
      "text/plain": [
       "array([[3.3 ],\n",
       "       [3.3 ],\n",
       "       [3.45],\n",
       "       [1.4 ],\n",
       "       [2.7 ],\n",
       "       [3.6 ],\n",
       "       [4.  ],\n",
       "       [2.15],\n",
       "       [3.15],\n",
       "       [2.35],\n",
       "       [2.8 ],\n",
       "       [3.2 ],\n",
       "       [3.35],\n",
       "       [3.2 ],\n",
       "       [2.7 ],\n",
       "       [2.5 ],\n",
       "       [1.9 ],\n",
       "       [2.35],\n",
       "       [2.75],\n",
       "       [3.15],\n",
       "       [2.3 ],\n",
       "       [3.15],\n",
       "       [2.85],\n",
       "       [2.7 ],\n",
       "       [3.75],\n",
       "       [2.8 ],\n",
       "       [3.35],\n",
       "       [2.4 ],\n",
       "       [3.45],\n",
       "       [3.5 ],\n",
       "       [3.8 ],\n",
       "       [3.35],\n",
       "       [2.6 ],\n",
       "       [3.6 ],\n",
       "       [3.85],\n",
       "       [2.7 ],\n",
       "       [2.95],\n",
       "       [2.75],\n",
       "       [3.5 ],\n",
       "       [2.7 ],\n",
       "       [3.45],\n",
       "       [1.5 ],\n",
       "       [2.3 ],\n",
       "       [1.8 ],\n",
       "       [3.75],\n",
       "       [3.35],\n",
       "       [3.05],\n",
       "       [4.1 ],\n",
       "       [3.9 ],\n",
       "       [3.25],\n",
       "       [2.35],\n",
       "       [2.3 ],\n",
       "       [3.1 ],\n",
       "       [2.4 ],\n",
       "       [1.65],\n",
       "       [2.25],\n",
       "       [2.15],\n",
       "       [2.65],\n",
       "       [4.25],\n",
       "       [1.75],\n",
       "       [1.4 ],\n",
       "       [2.95],\n",
       "       [1.85],\n",
       "       [3.15],\n",
       "       [2.15],\n",
       "       [2.55],\n",
       "       [2.9 ],\n",
       "       [1.95],\n",
       "       [3.5 ],\n",
       "       [3.15],\n",
       "       [1.35],\n",
       "       [3.35],\n",
       "       [2.2 ],\n",
       "       [3.5 ],\n",
       "       [3.55],\n",
       "       [1.55],\n",
       "       [3.2 ],\n",
       "       [1.65],\n",
       "       [3.45],\n",
       "       [2.2 ],\n",
       "       [2.  ],\n",
       "       [1.95],\n",
       "       [2.65],\n",
       "       [1.95],\n",
       "       [2.95],\n",
       "       [3.6 ],\n",
       "       [3.5 ],\n",
       "       [1.8 ],\n",
       "       [2.8 ],\n",
       "       [2.05],\n",
       "       [3.15],\n",
       "       [2.65],\n",
       "       [4.2 ],\n",
       "       [3.25],\n",
       "       [2.85],\n",
       "       [2.5 ],\n",
       "       [3.65],\n",
       "       [2.65],\n",
       "       [1.6 ],\n",
       "       [2.05],\n",
       "       [2.45],\n",
       "       [3.  ],\n",
       "       [3.05],\n",
       "       [3.6 ],\n",
       "       [2.15],\n",
       "       [2.3 ],\n",
       "       [2.3 ],\n",
       "       [3.7 ],\n",
       "       [2.5 ],\n",
       "       [2.8 ],\n",
       "       [2.25],\n",
       "       [3.8 ],\n",
       "       [3.8 ],\n",
       "       [3.65],\n",
       "       [2.95],\n",
       "       [2.7 ],\n",
       "       [3.65],\n",
       "       [1.7 ],\n",
       "       [2.75],\n",
       "       [2.3 ],\n",
       "       [1.8 ],\n",
       "       [2.65],\n",
       "       [1.9 ],\n",
       "       [2.45],\n",
       "       [3.6 ],\n",
       "       [3.5 ],\n",
       "       [1.75],\n",
       "       [1.95],\n",
       "       [1.6 ],\n",
       "       [2.15],\n",
       "       [3.35],\n",
       "       [3.15],\n",
       "       [3.55],\n",
       "       [3.65],\n",
       "       [4.05],\n",
       "       [2.25],\n",
       "       [2.  ],\n",
       "       [3.25],\n",
       "       [3.25],\n",
       "       [2.3 ],\n",
       "       [1.4 ],\n",
       "       [3.1 ],\n",
       "       [3.8 ],\n",
       "       [1.9 ],\n",
       "       [1.55],\n",
       "       [2.3 ],\n",
       "       [2.35],\n",
       "       [2.85],\n",
       "       [1.95],\n",
       "       [3.05],\n",
       "       [2.5 ],\n",
       "       [2.25],\n",
       "       [3.4 ],\n",
       "       [3.65],\n",
       "       [3.85],\n",
       "       [2.7 ],\n",
       "       [2.95],\n",
       "       [2.95],\n",
       "       [3.4 ],\n",
       "       [1.9 ],\n",
       "       [2.9 ],\n",
       "       [2.3 ],\n",
       "       [3.15],\n",
       "       [1.85],\n",
       "       [2.1 ],\n",
       "       [2.45],\n",
       "       [3.7 ],\n",
       "       [3.2 ],\n",
       "       [2.  ],\n",
       "       [3.45],\n",
       "       [3.  ],\n",
       "       [1.5 ],\n",
       "       [1.8 ],\n",
       "       [3.4 ],\n",
       "       [2.85],\n",
       "       [3.35],\n",
       "       [1.55],\n",
       "       [3.25],\n",
       "       [3.2 ],\n",
       "       [3.05],\n",
       "       [2.  ],\n",
       "       [3.  ],\n",
       "       [3.45],\n",
       "       [2.8 ],\n",
       "       [2.45],\n",
       "       [3.15],\n",
       "       [2.45],\n",
       "       [3.4 ],\n",
       "       [3.65],\n",
       "       [1.9 ],\n",
       "       [2.65],\n",
       "       [2.05]])"
      ]
     },
     "execution_count": 66,
     "metadata": {},
     "output_type": "execute_result"
    }
   ],
   "source": [
    "# Taking inverse of min-max scalar to obtain y_sub_mos_inv (real subjective MOS) before splitting\n",
    "\n",
    "y_sub_mos_inv = scaler.inverse_transform(y_test)\n",
    "y_sub_mos_inv"
   ]
  },
  {
   "cell_type": "code",
   "execution_count": 67,
   "metadata": {},
   "outputs": [
    {
     "data": {
      "text/plain": [
       "0.8886451557020736"
      ]
     },
     "execution_count": 67,
     "metadata": {},
     "output_type": "execute_result"
    }
   ],
   "source": [
    "# Pearson correlation\n",
    "\n",
    "pear_corr, _ = stats.pearsonr(y_sub_mos_inv.flatten(), y_obj_mos_inv.flatten())\n",
    "pear_corr"
   ]
  },
  {
   "cell_type": "code",
   "execution_count": 68,
   "metadata": {},
   "outputs": [
    {
     "data": {
      "text/plain": [
       "0.8958842059678751"
      ]
     },
     "execution_count": 68,
     "metadata": {},
     "output_type": "execute_result"
    }
   ],
   "source": [
    "# Spearman correlation\n",
    "\n",
    "spearman_corr, _ = stats.spearmanr(y_sub_mos_inv.flatten(), y_obj_mos_inv.flatten())\n",
    "spearman_corr"
   ]
  },
  {
   "cell_type": "code",
   "execution_count": 69,
   "metadata": {},
   "outputs": [
    {
     "data": {
      "text/plain": [
       "0.3403129208851753"
      ]
     },
     "execution_count": 69,
     "metadata": {},
     "output_type": "execute_result"
    }
   ],
   "source": [
    "# RMSE \n",
    "\n",
    "rmse_test = np.sqrt(metrics.mean_squared_error(y_sub_mos_inv.flatten(), y_obj_mos_inv.flatten()))\n",
    "rmse_test"
   ]
  },
  {
   "cell_type": "markdown",
   "metadata": {},
   "source": [
    "#### Note: With inverse or without taking inverse of objective and subjective MOS, the correlation value remains same."
   ]
  },
  {
   "cell_type": "markdown",
   "metadata": {},
   "source": [
    "### Scatter plot for all test speech samples"
   ]
  },
  {
   "cell_type": "code",
   "execution_count": 70,
   "metadata": {},
   "outputs": [
    {
     "name": "stdout",
     "output_type": "stream",
     "text": [
      "192\n",
      "192\n"
     ]
    },
    {
     "data": {
      "image/png": "[encoded data removed]",
      "text/plain": [
       "<Figure size 432x432 with 1 Axes>"
      ]
     },
     "metadata": {
      "needs_background": "light"
     },
     "output_type": "display_data"
    }
   ],
   "source": [
    "def plotscatter(x, y, xlabel, ylabel, xrange=(1, 5), yrange=(1, 5)):\n",
    "\n",
    "    # blue = plt.scatter(x[0:20], y[0:20], color='b', marker='^', label='ECHO', s=100)  # s-size of marker\n",
    "    # green = plt.scatter(x[20:40], y[20:40], color='g', marker='v', label='CHOP', s=100)\n",
    "    # yellow = plt.scatter(x[44:58], y[44:58], color='y', marker='o', label='CLIP', s=100)\n",
    "    # red = plt.scatter(x[40:50], y[40:50], color='r', marker='>', label='COMPSPKR', s=100)\n",
    "    # magenta = plt.scatter(x[50:70], y[50:70], color='m', marker='<', label='NOISE', s=100)\n",
    "    # magenta = plt.scatter(x, y, color='m', marker='>', label='Speech Samples', s=100)\n",
    "    # magenta = plt.scatter(x, y, color='b', marker='>')\n",
    "    plt.scatter(x, y, color='b', marker='^')\n",
    "\n",
    "    # plt.legend(prop={'size': 20}, loc=4, scatterpoints=1, handles=[magenta])  # Legends\n",
    "    # plt.legend(prop={'size': 20}, loc=4, scatterpoints=1, handles=[blue, green, red, magenta)  # Legends\n",
    "    # plt.legend(prop={'size': 20}, loc=4, scatterpoints=1, handles=[blue, green, yellow, red, magenta])  # Legends\n",
    "    plt.xlim(xrange)\n",
    "    plt.ylim(yrange)\n",
    "    plt.grid(axis='both')\n",
    "    plt.xlabel(xlabel, fontsize=20)\n",
    "    plt.ylabel(ylabel, fontsize=20)\n",
    "    # plt.title(title)\n",
    "\n",
    "obj_mos = y_obj_mos_inv  # objective mos\n",
    "print(len(obj_mos))\n",
    "\n",
    "sub_mos = y_sub_mos_inv  # subjective mos\n",
    "print(len(sub_mos))\n",
    "\n",
    "# Scatter plot\n",
    "fig, ax = plt.subplots(figsize=(6, 6))  # figure size of scatter plot\n",
    "plotscatter(sub_mos, obj_mos, 'MOS-LQS', 'MOS-LQO')\n",
    "\n",
    "# Adding text inside plot\n",
    "plt.text(1.2, 4.6, '[Correlation=0.888]', fontsize=15, bbox=dict(facecolor='red', alpha=0.5))\n",
    "\n",
    "# Diagonal dashed line (k-black)\n",
    "ax.plot([1, 5], [1, 5], 'k--', c='k')  # x-limit range and y-limit range\n",
    "ax.tick_params(axis='x', labelsize=20)\n",
    "ax.tick_params(axis='y', labelsize=20)\n",
    "\n",
    "# plt.savefig('scatter_plot_MRAM_plus_MFCC_plus_LSF_45D.pdf', bbox_inches='tight')\n",
    "plt.tight_layout()\n",
    "plt.title('Scatter plot between Subjective and Objective MOS')\n",
    "plt.show()"
   ]
  },
  {
   "cell_type": "code",
   "execution_count": 71,
   "metadata": {},
   "outputs": [],
   "source": [
    "# done"
   ]
  }
 ],
 "metadata": {
  "kernelspec": {
   "display_name": "Python 3",
   "language": "python",
   "name": "python3"
  },
  "language_info": {
   "codemirror_mode": {
    "name": "ipython",
    "version": 3
   },
   "file_extension": ".py",
   "mimetype": "text/x-python",
   "name": "python",
   "nbconvert_exporter": "python",
   "pygments_lexer": "ipython3",
   "version": "3.8.5"
  }
 },
 "nbformat": 4,
 "nbformat_minor": 4
}
